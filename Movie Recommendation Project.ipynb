{
 "cells": [
  {
   "cell_type": "markdown",
   "id": "011a0077",
   "metadata": {},
   "source": [
    "# Building a Movie Recommender using the Movie Lens Dataset\n",
    "\n",
    "**In this project, we will explore two types of recommender systems: 1) collaborative filtering, and 2) content-based filtering. We will build our own recommendation system using the [MovieLens](https://movielens.org/home) dataset in Python.**\n",
    "\n",
    "### What is MovieLens?\n",
    "\n",
    "MovieLens is a recommender system that was developed by GroupLens, a computer science research lab at the University of Minnesota. It recommends movies to its users based on their movie ratings. It is also a dataset that is widely used in research and teaching contexts.\n",
    "\n",
    "**This project is based on the following tutorial from Jill Cates (Data Scientist, Shopify). [tutorial link](https://www.youtube.com/watch?v=XfAe-HLysOM)**"
   ]
  },
  {
   "cell_type": "markdown",
   "id": "f257c894",
   "metadata": {},
   "source": [
    "**Project outline - This recommender build is broken down into 7 steps**"
   ]
  },
  {
   "cell_type": "markdown",
   "id": "018c0093",
   "metadata": {},
   "source": [
    "1. Import Libraries.\n",
    "2. Load the data.\n",
    "3. Exploratory data analysis.\n",
    "4. Data pre-processing.\n",
    "5. Collaborative filtering using K-Nearest Neighbors.\n",
    "6. Handling the cold start problem with content-based filtering\n",
    "7. Dimensionality reduction with matrix factorization"
   ]
  },
  {
   "cell_type": "markdown",
   "id": "d358b731",
   "metadata": {},
   "source": [
    "1. Import Libraries"
   ]
  },
  {
   "cell_type": "code",
   "execution_count": 1,
   "id": "f540a645",
   "metadata": {},
   "outputs": [],
   "source": [
    "import numpy as np\n",
    "import pandas as pd\n",
    "import matplotlib.pyplot as plt\n",
    "import seaborn as sns"
   ]
  },
  {
   "cell_type": "markdown",
   "id": "4fb64e0b",
   "metadata": {},
   "source": [
    "2.Load the Data"
   ]
  },
  {
   "cell_type": "markdown",
   "id": "ea7f9c22",
   "metadata": {},
   "source": [
    "Below are the links to the data source."
   ]
  },
  {
   "cell_type": "code",
   "execution_count": 107,
   "id": "c39ddcca",
   "metadata": {},
   "outputs": [],
   "source": [
    "ratings = pd.read_csv(\"data/ratings.csv\")"
   ]
  },
  {
   "cell_type": "code",
   "execution_count": 108,
   "id": "742c370d",
   "metadata": {},
   "outputs": [
    {
     "data": {
      "text/html": [
       "<div>\n",
       "<style scoped>\n",
       "    .dataframe tbody tr th:only-of-type {\n",
       "        vertical-align: middle;\n",
       "    }\n",
       "\n",
       "    .dataframe tbody tr th {\n",
       "        vertical-align: top;\n",
       "    }\n",
       "\n",
       "    .dataframe thead th {\n",
       "        text-align: right;\n",
       "    }\n",
       "</style>\n",
       "<table border=\"1\" class=\"dataframe\">\n",
       "  <thead>\n",
       "    <tr style=\"text-align: right;\">\n",
       "      <th></th>\n",
       "      <th>userId</th>\n",
       "      <th>movieId</th>\n",
       "      <th>rating</th>\n",
       "      <th>timestamp</th>\n",
       "    </tr>\n",
       "  </thead>\n",
       "  <tbody>\n",
       "    <tr>\n",
       "      <th>0</th>\n",
       "      <td>1</td>\n",
       "      <td>1</td>\n",
       "      <td>4.0</td>\n",
       "      <td>964982703</td>\n",
       "    </tr>\n",
       "    <tr>\n",
       "      <th>1</th>\n",
       "      <td>1</td>\n",
       "      <td>3</td>\n",
       "      <td>4.0</td>\n",
       "      <td>964981247</td>\n",
       "    </tr>\n",
       "    <tr>\n",
       "      <th>2</th>\n",
       "      <td>1</td>\n",
       "      <td>6</td>\n",
       "      <td>4.0</td>\n",
       "      <td>964982224</td>\n",
       "    </tr>\n",
       "    <tr>\n",
       "      <th>3</th>\n",
       "      <td>1</td>\n",
       "      <td>47</td>\n",
       "      <td>5.0</td>\n",
       "      <td>964983815</td>\n",
       "    </tr>\n",
       "    <tr>\n",
       "      <th>4</th>\n",
       "      <td>1</td>\n",
       "      <td>50</td>\n",
       "      <td>5.0</td>\n",
       "      <td>964982931</td>\n",
       "    </tr>\n",
       "  </tbody>\n",
       "</table>\n",
       "</div>"
      ],
      "text/plain": [
       "   userId  movieId  rating  timestamp\n",
       "0       1        1     4.0  964982703\n",
       "1       1        3     4.0  964981247\n",
       "2       1        6     4.0  964982224\n",
       "3       1       47     5.0  964983815\n",
       "4       1       50     5.0  964982931"
      ]
     },
     "execution_count": 108,
     "metadata": {},
     "output_type": "execute_result"
    }
   ],
   "source": [
    "ratings.head()"
   ]
  },
  {
   "cell_type": "code",
   "execution_count": 4,
   "id": "cfdf3ed2",
   "metadata": {},
   "outputs": [],
   "source": [
    "movies = pd.read_csv(\"data/movies.csv\")"
   ]
  },
  {
   "cell_type": "code",
   "execution_count": 5,
   "id": "fc5d0517",
   "metadata": {},
   "outputs": [
    {
     "data": {
      "text/html": [
       "<div>\n",
       "<style scoped>\n",
       "    .dataframe tbody tr th:only-of-type {\n",
       "        vertical-align: middle;\n",
       "    }\n",
       "\n",
       "    .dataframe tbody tr th {\n",
       "        vertical-align: top;\n",
       "    }\n",
       "\n",
       "    .dataframe thead th {\n",
       "        text-align: right;\n",
       "    }\n",
       "</style>\n",
       "<table border=\"1\" class=\"dataframe\">\n",
       "  <thead>\n",
       "    <tr style=\"text-align: right;\">\n",
       "      <th></th>\n",
       "      <th>movieId</th>\n",
       "      <th>title</th>\n",
       "      <th>genres</th>\n",
       "    </tr>\n",
       "  </thead>\n",
       "  <tbody>\n",
       "    <tr>\n",
       "      <th>0</th>\n",
       "      <td>1</td>\n",
       "      <td>Toy Story (1995)</td>\n",
       "      <td>Adventure|Animation|Children|Comedy|Fantasy</td>\n",
       "    </tr>\n",
       "    <tr>\n",
       "      <th>1</th>\n",
       "      <td>2</td>\n",
       "      <td>Jumanji (1995)</td>\n",
       "      <td>Adventure|Children|Fantasy</td>\n",
       "    </tr>\n",
       "    <tr>\n",
       "      <th>2</th>\n",
       "      <td>3</td>\n",
       "      <td>Grumpier Old Men (1995)</td>\n",
       "      <td>Comedy|Romance</td>\n",
       "    </tr>\n",
       "    <tr>\n",
       "      <th>3</th>\n",
       "      <td>4</td>\n",
       "      <td>Waiting to Exhale (1995)</td>\n",
       "      <td>Comedy|Drama|Romance</td>\n",
       "    </tr>\n",
       "    <tr>\n",
       "      <th>4</th>\n",
       "      <td>5</td>\n",
       "      <td>Father of the Bride Part II (1995)</td>\n",
       "      <td>Comedy</td>\n",
       "    </tr>\n",
       "  </tbody>\n",
       "</table>\n",
       "</div>"
      ],
      "text/plain": [
       "   movieId                               title  \\\n",
       "0        1                    Toy Story (1995)   \n",
       "1        2                      Jumanji (1995)   \n",
       "2        3             Grumpier Old Men (1995)   \n",
       "3        4            Waiting to Exhale (1995)   \n",
       "4        5  Father of the Bride Part II (1995)   \n",
       "\n",
       "                                        genres  \n",
       "0  Adventure|Animation|Children|Comedy|Fantasy  \n",
       "1                   Adventure|Children|Fantasy  \n",
       "2                               Comedy|Romance  \n",
       "3                         Comedy|Drama|Romance  \n",
       "4                                       Comedy  "
      ]
     },
     "execution_count": 5,
     "metadata": {},
     "output_type": "execute_result"
    }
   ],
   "source": [
    "movies.head()"
   ]
  },
  {
   "cell_type": "markdown",
   "id": "50a36111",
   "metadata": {},
   "source": [
    "3. Exploratory data analysis"
   ]
  },
  {
   "cell_type": "code",
   "execution_count": 111,
   "id": "dc380ec4",
   "metadata": {},
   "outputs": [
    {
     "name": "stdout",
     "output_type": "stream",
     "text": [
      "Number of ratings 100836\n",
      "Number of unique movieIds 9724\n",
      "Number of unique users 610\n"
     ]
    }
   ],
   "source": [
    "n_ratings = len(ratings)\n",
    "n_movies = ratings['movieId'].nunique()\n",
    "n_users = ratings['userId'].nunique()\n",
    "print(f\"Number of ratings {n_ratings}\")\n",
    "print(f\"Number of unique movieIds {n_movies}\")\n",
    "print(f\"Number of unique users {n_users}\")"
   ]
  },
  {
   "cell_type": "markdown",
   "id": "fb6120f6",
   "metadata": {},
   "source": [
    "Distribution of movie ratings"
   ]
  },
  {
   "cell_type": "code",
   "execution_count": 112,
   "id": "ee6bcfa5",
   "metadata": {},
   "outputs": [
    {
     "data": {
      "image/png": "[encoded data removed]",
      "text/plain": [
       "<Figure size 432x288 with 1 Axes>"
      ]
     },
     "metadata": {
      "needs_background": "light"
     },
     "output_type": "display_data"
    }
   ],
   "source": [
    "sns.countplot(x='rating',data=ratings)\n",
    "plt.title(\"Distribution of movie ratings\")\n",
    "plt.show()"
   ]
  },
  {
   "cell_type": "code",
   "execution_count": 87,
   "id": "56fccda2",
   "metadata": {},
   "outputs": [
    {
     "name": "stdout",
     "output_type": "stream",
     "text": [
      "3.5\n"
     ]
    }
   ],
   "source": [
    "#mean rating\n",
    "print(round(ratings['rating'].mean(),2))"
   ]
  },
  {
   "cell_type": "code",
   "execution_count": 88,
   "id": "5d237f13",
   "metadata": {},
   "outputs": [
    {
     "name": "stdout",
     "output_type": "stream",
     "text": [
      "3.66\n"
     ]
    }
   ],
   "source": [
    "#mean rating per use\n",
    "ratings_groupby = round(ratings.groupby(by='userId')['rating'].mean(),2)\n",
    "ratings_groupby_mean = round(ratings_groupby.mean(),2)\n",
    "print(ratings_groupby_mean)"
   ]
  },
  {
   "cell_type": "markdown",
   "id": "0047dbe6",
   "metadata": {},
   "source": [
    "Most frequently rated movies"
   ]
  },
  {
   "cell_type": "code",
   "execution_count": 89,
   "id": "423478ac",
   "metadata": {},
   "outputs": [
    {
     "data": {
      "text/plain": [
       "Forrest Gump (1994)                 329\n",
       "Shawshank Redemption, The (1994)    317\n",
       "Pulp Fiction (1994)                 307\n",
       "Silence of the Lambs, The (1991)    279\n",
       "Matrix, The (1999)                  278\n",
       "                                   ... \n",
       "Sex, Drugs & Taxation (2013)          1\n",
       "Extraordinary Tales (2015)            1\n",
       "Tomorrow (2015)                       1\n",
       "Embrace of the Serpent (2016)         1\n",
       "31 (2016)                             1\n",
       "Name: title, Length: 9719, dtype: int64"
      ]
     },
     "execution_count": 89,
     "metadata": {},
     "output_type": "execute_result"
    }
   ],
   "source": [
    "movie_ratings = ratings.merge(movies,on='movieId')\n",
    "movie_ratings['title'].value_counts()"
   ]
  },
  {
   "cell_type": "markdown",
   "id": "43e5b381",
   "metadata": {},
   "source": [
    "Lowest rated movie"
   ]
  },
  {
   "cell_type": "code",
   "execution_count": 11,
   "id": "f42d682e",
   "metadata": {},
   "outputs": [
    {
     "data": {
      "text/html": [
       "<div>\n",
       "<style scoped>\n",
       "    .dataframe tbody tr th:only-of-type {\n",
       "        vertical-align: middle;\n",
       "    }\n",
       "\n",
       "    .dataframe tbody tr th {\n",
       "        vertical-align: top;\n",
       "    }\n",
       "\n",
       "    .dataframe thead th {\n",
       "        text-align: right;\n",
       "    }\n",
       "</style>\n",
       "<table border=\"1\" class=\"dataframe\">\n",
       "  <thead>\n",
       "    <tr style=\"text-align: right;\">\n",
       "      <th></th>\n",
       "      <th>movieId</th>\n",
       "      <th>title</th>\n",
       "      <th>genres</th>\n",
       "    </tr>\n",
       "  </thead>\n",
       "  <tbody>\n",
       "    <tr>\n",
       "      <th>2689</th>\n",
       "      <td>3604</td>\n",
       "      <td>Gypsy (1962)</td>\n",
       "      <td>Musical</td>\n",
       "    </tr>\n",
       "  </tbody>\n",
       "</table>\n",
       "</div>"
      ],
      "text/plain": [
       "      movieId         title   genres\n",
       "2689     3604  Gypsy (1962)  Musical"
      ]
     },
     "execution_count": 11,
     "metadata": {},
     "output_type": "execute_result"
    }
   ],
   "source": [
    "movies_ratings_groupby = ratings.groupby(by='movieId')[['rating']].mean()\n",
    "lowest_rated = movies_ratings_groupby['rating'].idxmin()\n",
    "movies[movies['movieId']==lowest_rated]"
   ]
  },
  {
   "cell_type": "markdown",
   "id": "e185f9d2",
   "metadata": {},
   "source": [
    "Lowest Rated Movie is \"Gypsy\""
   ]
  },
  {
   "cell_type": "markdown",
   "id": "78bc0e18",
   "metadata": {},
   "source": [
    "Highest rated movie"
   ]
  },
  {
   "cell_type": "code",
   "execution_count": 12,
   "id": "ccb95fa2",
   "metadata": {},
   "outputs": [
    {
     "data": {
      "text/html": [
       "<div>\n",
       "<style scoped>\n",
       "    .dataframe tbody tr th:only-of-type {\n",
       "        vertical-align: middle;\n",
       "    }\n",
       "\n",
       "    .dataframe tbody tr th {\n",
       "        vertical-align: top;\n",
       "    }\n",
       "\n",
       "    .dataframe thead th {\n",
       "        text-align: right;\n",
       "    }\n",
       "</style>\n",
       "<table border=\"1\" class=\"dataframe\">\n",
       "  <thead>\n",
       "    <tr style=\"text-align: right;\">\n",
       "      <th></th>\n",
       "      <th>movieId</th>\n",
       "      <th>title</th>\n",
       "      <th>genres</th>\n",
       "    </tr>\n",
       "  </thead>\n",
       "  <tbody>\n",
       "    <tr>\n",
       "      <th>48</th>\n",
       "      <td>53</td>\n",
       "      <td>Lamerica (1994)</td>\n",
       "      <td>Adventure|Drama</td>\n",
       "    </tr>\n",
       "  </tbody>\n",
       "</table>\n",
       "</div>"
      ],
      "text/plain": [
       "    movieId            title           genres\n",
       "48       53  Lamerica (1994)  Adventure|Drama"
      ]
     },
     "execution_count": 12,
     "metadata": {},
     "output_type": "execute_result"
    }
   ],
   "source": [
    "highest_rated = movies_ratings_groupby['rating'].idxmax()\n",
    "movies[movies['movieId']==highest_rated]"
   ]
  },
  {
   "cell_type": "markdown",
   "id": "039f4e2e",
   "metadata": {},
   "source": [
    "Highest Rated Movie is \"Lamerica\""
   ]
  },
  {
   "cell_type": "code",
   "execution_count": 13,
   "id": "3847f654",
   "metadata": {},
   "outputs": [
    {
     "data": {
      "text/html": [
       "<div>\n",
       "<style scoped>\n",
       "    .dataframe tbody tr th:only-of-type {\n",
       "        vertical-align: middle;\n",
       "    }\n",
       "\n",
       "    .dataframe tbody tr th {\n",
       "        vertical-align: top;\n",
       "    }\n",
       "\n",
       "    .dataframe thead th {\n",
       "        text-align: right;\n",
       "    }\n",
       "</style>\n",
       "<table border=\"1\" class=\"dataframe\">\n",
       "  <thead>\n",
       "    <tr style=\"text-align: right;\">\n",
       "      <th></th>\n",
       "      <th>userId</th>\n",
       "      <th>movieId</th>\n",
       "      <th>rating</th>\n",
       "      <th>timestamp</th>\n",
       "      <th>title</th>\n",
       "      <th>genres</th>\n",
       "    </tr>\n",
       "  </thead>\n",
       "  <tbody>\n",
       "    <tr>\n",
       "      <th>86227</th>\n",
       "      <td>85</td>\n",
       "      <td>53</td>\n",
       "      <td>5.0</td>\n",
       "      <td>889468268</td>\n",
       "      <td>Lamerica (1994)</td>\n",
       "      <td>Adventure|Drama</td>\n",
       "    </tr>\n",
       "    <tr>\n",
       "      <th>86228</th>\n",
       "      <td>603</td>\n",
       "      <td>53</td>\n",
       "      <td>5.0</td>\n",
       "      <td>963180003</td>\n",
       "      <td>Lamerica (1994)</td>\n",
       "      <td>Adventure|Drama</td>\n",
       "    </tr>\n",
       "  </tbody>\n",
       "</table>\n",
       "</div>"
      ],
      "text/plain": [
       "       userId  movieId  rating  timestamp            title           genres\n",
       "86227      85       53     5.0  889468268  Lamerica (1994)  Adventure|Drama\n",
       "86228     603       53     5.0  963180003  Lamerica (1994)  Adventure|Drama"
      ]
     },
     "execution_count": 13,
     "metadata": {},
     "output_type": "execute_result"
    }
   ],
   "source": [
    "movie_ratings[movie_ratings['movieId']==highest_rated]"
   ]
  },
  {
   "cell_type": "markdown",
   "id": "b73f09c7",
   "metadata": {},
   "source": [
    "**Bayesian Average**"
   ]
  },
  {
   "cell_type": "markdown",
   "id": "9e0039a0",
   "metadata": {},
   "source": [
    "Bayesian Average is defined as:\n",
    "\n",
    "$r_{i} = \\frac{Cxm +\\sum{reviews}}{C+N}$"
   ]
  },
  {
   "cell_type": "markdown",
   "id": "814eab97",
   "metadata": {},
   "source": [
    "Where C represents our confidence, m represents our prior, and N is the total number of reviews for a movie"
   ]
  },
  {
   "cell_type": "markdown",
   "id": "9cc65d75",
   "metadata": {},
   "source": [
    "C represents the typical dataset size, In this case, C will be the average number of ratings for a given movie.\\\n",
    "m represents the average rating across all movies"
   ]
  },
  {
   "cell_type": "code",
   "execution_count": 14,
   "id": "781ef5ff",
   "metadata": {},
   "outputs": [],
   "source": [
    "movie_stats = ratings.groupby('movieId')['rating'].agg(['count','mean'])"
   ]
  },
  {
   "cell_type": "code",
   "execution_count": 15,
   "id": "425b0d04",
   "metadata": {},
   "outputs": [
    {
     "data": {
      "text/html": [
       "<div>\n",
       "<style scoped>\n",
       "    .dataframe tbody tr th:only-of-type {\n",
       "        vertical-align: middle;\n",
       "    }\n",
       "\n",
       "    .dataframe tbody tr th {\n",
       "        vertical-align: top;\n",
       "    }\n",
       "\n",
       "    .dataframe thead th {\n",
       "        text-align: right;\n",
       "    }\n",
       "</style>\n",
       "<table border=\"1\" class=\"dataframe\">\n",
       "  <thead>\n",
       "    <tr style=\"text-align: right;\">\n",
       "      <th></th>\n",
       "      <th>count</th>\n",
       "      <th>mean</th>\n",
       "    </tr>\n",
       "    <tr>\n",
       "      <th>movieId</th>\n",
       "      <th></th>\n",
       "      <th></th>\n",
       "    </tr>\n",
       "  </thead>\n",
       "  <tbody>\n",
       "    <tr>\n",
       "      <th>1</th>\n",
       "      <td>215</td>\n",
       "      <td>3.920930</td>\n",
       "    </tr>\n",
       "    <tr>\n",
       "      <th>2</th>\n",
       "      <td>110</td>\n",
       "      <td>3.431818</td>\n",
       "    </tr>\n",
       "    <tr>\n",
       "      <th>3</th>\n",
       "      <td>52</td>\n",
       "      <td>3.259615</td>\n",
       "    </tr>\n",
       "    <tr>\n",
       "      <th>4</th>\n",
       "      <td>7</td>\n",
       "      <td>2.357143</td>\n",
       "    </tr>\n",
       "    <tr>\n",
       "      <th>5</th>\n",
       "      <td>49</td>\n",
       "      <td>3.071429</td>\n",
       "    </tr>\n",
       "  </tbody>\n",
       "</table>\n",
       "</div>"
      ],
      "text/plain": [
       "         count      mean\n",
       "movieId                 \n",
       "1          215  3.920930\n",
       "2          110  3.431818\n",
       "3           52  3.259615\n",
       "4            7  2.357143\n",
       "5           49  3.071429"
      ]
     },
     "execution_count": 15,
     "metadata": {},
     "output_type": "execute_result"
    }
   ],
   "source": [
    "movie_stats.head()"
   ]
  },
  {
   "cell_type": "code",
   "execution_count": 16,
   "id": "d5c8a0c4",
   "metadata": {},
   "outputs": [
    {
     "name": "stdout",
     "output_type": "stream",
     "text": [
      "Average number of ratings for a given movie is 10.369806663924312\n",
      "Average rating across all movies is 3.2624482748109656\n"
     ]
    }
   ],
   "source": [
    "C = movie_stats['count'].mean()\n",
    "m = movie_stats['mean'].mean()\n",
    "\n",
    "print(f\"Average number of ratings for a given movie is {C}\")\n",
    "print(f\"Average rating across all movies is {m}\")\n",
    "\n",
    "def bayesian_average(ratings):\n",
    "    bayesian_avg = (C*m+ratings.sum())/(C+ratings.count())\n",
    "    return round(bayesian_avg,2)"
   ]
  },
  {
   "cell_type": "code",
   "execution_count": 17,
   "id": "b729a556",
   "metadata": {},
   "outputs": [
    {
     "name": "stdout",
     "output_type": "stream",
     "text": [
      "Lamerica bayesian avg is 3.54\n"
     ]
    }
   ],
   "source": [
    "#test bayesian average on Lamerica\n",
    "\n",
    "Lamerica = pd.Series([5,5])\n",
    "Lamerica_bayesian_avg = bayesian_average(Lamerica)\n",
    "print(f\"Lamerica bayesian avg is {Lamerica_bayesian_avg}\")"
   ]
  },
  {
   "cell_type": "markdown",
   "id": "72814c06",
   "metadata": {},
   "source": [
    "`Lamerica's` average Bayesian rating is 3.5\\\n",
    "Let's now apply Bayesian_Avg to all movies in our dataset"
   ]
  },
  {
   "cell_type": "code",
   "execution_count": 18,
   "id": "7d206a52",
   "metadata": {},
   "outputs": [],
   "source": [
    "baysian_avg_ratings = ratings.groupby('movieId')['rating'].agg(bayesian_average).reset_index()\n",
    "baysian_avg_ratings.columns = ['movieId','bayesian_avg']"
   ]
  },
  {
   "cell_type": "code",
   "execution_count": 19,
   "id": "4097a4cb",
   "metadata": {},
   "outputs": [],
   "source": [
    "movie_stats_bayes = movie_stats.merge(baysian_avg_ratings, on = 'movieId')"
   ]
  },
  {
   "cell_type": "code",
   "execution_count": 20,
   "id": "6eb2bbb8",
   "metadata": {},
   "outputs": [],
   "source": [
    "movie_title_bayes = movies.merge(baysian_avg_ratings, on = 'movieId')"
   ]
  },
  {
   "cell_type": "code",
   "execution_count": 21,
   "id": "8459ebbf",
   "metadata": {},
   "outputs": [
    {
     "data": {
      "text/html": [
       "<div>\n",
       "<style scoped>\n",
       "    .dataframe tbody tr th:only-of-type {\n",
       "        vertical-align: middle;\n",
       "    }\n",
       "\n",
       "    .dataframe tbody tr th {\n",
       "        vertical-align: top;\n",
       "    }\n",
       "\n",
       "    .dataframe thead th {\n",
       "        text-align: right;\n",
       "    }\n",
       "</style>\n",
       "<table border=\"1\" class=\"dataframe\">\n",
       "  <thead>\n",
       "    <tr style=\"text-align: right;\">\n",
       "      <th></th>\n",
       "      <th>movieId</th>\n",
       "      <th>title</th>\n",
       "      <th>genres</th>\n",
       "      <th>bayesian_avg</th>\n",
       "    </tr>\n",
       "  </thead>\n",
       "  <tbody>\n",
       "    <tr>\n",
       "      <th>277</th>\n",
       "      <td>318</td>\n",
       "      <td>Shawshank Redemption, The (1994)</td>\n",
       "      <td>Crime|Drama</td>\n",
       "      <td>4.39</td>\n",
       "    </tr>\n",
       "    <tr>\n",
       "      <th>659</th>\n",
       "      <td>858</td>\n",
       "      <td>Godfather, The (1972)</td>\n",
       "      <td>Crime|Drama</td>\n",
       "      <td>4.24</td>\n",
       "    </tr>\n",
       "    <tr>\n",
       "      <th>2224</th>\n",
       "      <td>2959</td>\n",
       "      <td>Fight Club (1999)</td>\n",
       "      <td>Action|Crime|Drama|Thriller</td>\n",
       "      <td>4.23</td>\n",
       "    </tr>\n",
       "    <tr>\n",
       "      <th>224</th>\n",
       "      <td>260</td>\n",
       "      <td>Star Wars: Episode IV - A New Hope (1977)</td>\n",
       "      <td>Action|Adventure|Sci-Fi</td>\n",
       "      <td>4.19</td>\n",
       "    </tr>\n",
       "    <tr>\n",
       "      <th>921</th>\n",
       "      <td>1221</td>\n",
       "      <td>Godfather: Part II, The (1974)</td>\n",
       "      <td>Crime|Drama</td>\n",
       "      <td>4.19</td>\n",
       "    </tr>\n",
       "    <tr>\n",
       "      <th>...</th>\n",
       "      <td>...</td>\n",
       "      <td>...</td>\n",
       "      <td>...</td>\n",
       "      <td>...</td>\n",
       "    </tr>\n",
       "    <tr>\n",
       "      <th>1988</th>\n",
       "      <td>2643</td>\n",
       "      <td>Superman IV: The Quest for Peace (1987)</td>\n",
       "      <td>Action|Adventure|Sci-Fi</td>\n",
       "      <td>2.31</td>\n",
       "    </tr>\n",
       "    <tr>\n",
       "      <th>1144</th>\n",
       "      <td>1499</td>\n",
       "      <td>Anaconda (1997)</td>\n",
       "      <td>Action|Adventure|Thriller</td>\n",
       "      <td>2.30</td>\n",
       "    </tr>\n",
       "    <tr>\n",
       "      <th>1372</th>\n",
       "      <td>1882</td>\n",
       "      <td>Godzilla (1998)</td>\n",
       "      <td>Action|Sci-Fi|Thriller</td>\n",
       "      <td>2.27</td>\n",
       "    </tr>\n",
       "    <tr>\n",
       "      <th>2679</th>\n",
       "      <td>3593</td>\n",
       "      <td>Battlefield Earth (2000)</td>\n",
       "      <td>Action|Sci-Fi</td>\n",
       "      <td>2.22</td>\n",
       "    </tr>\n",
       "    <tr>\n",
       "      <th>1172</th>\n",
       "      <td>1556</td>\n",
       "      <td>Speed 2: Cruise Control (1997)</td>\n",
       "      <td>Action|Romance|Thriller</td>\n",
       "      <td>2.19</td>\n",
       "    </tr>\n",
       "  </tbody>\n",
       "</table>\n",
       "<p>9724 rows × 4 columns</p>\n",
       "</div>"
      ],
      "text/plain": [
       "      movieId                                      title  \\\n",
       "277       318           Shawshank Redemption, The (1994)   \n",
       "659       858                      Godfather, The (1972)   \n",
       "2224     2959                          Fight Club (1999)   \n",
       "224       260  Star Wars: Episode IV - A New Hope (1977)   \n",
       "921      1221             Godfather: Part II, The (1974)   \n",
       "...       ...                                        ...   \n",
       "1988     2643    Superman IV: The Quest for Peace (1987)   \n",
       "1144     1499                            Anaconda (1997)   \n",
       "1372     1882                            Godzilla (1998)   \n",
       "2679     3593                   Battlefield Earth (2000)   \n",
       "1172     1556             Speed 2: Cruise Control (1997)   \n",
       "\n",
       "                           genres  bayesian_avg  \n",
       "277                   Crime|Drama          4.39  \n",
       "659                   Crime|Drama          4.24  \n",
       "2224  Action|Crime|Drama|Thriller          4.23  \n",
       "224       Action|Adventure|Sci-Fi          4.19  \n",
       "921                   Crime|Drama          4.19  \n",
       "...                           ...           ...  \n",
       "1988      Action|Adventure|Sci-Fi          2.31  \n",
       "1144    Action|Adventure|Thriller          2.30  \n",
       "1372       Action|Sci-Fi|Thriller          2.27  \n",
       "2679                Action|Sci-Fi          2.22  \n",
       "1172      Action|Romance|Thriller          2.19  \n",
       "\n",
       "[9724 rows x 4 columns]"
      ]
     },
     "execution_count": 21,
     "metadata": {},
     "output_type": "execute_result"
    }
   ],
   "source": [
    "movie_title_bayes.sort_values(by='bayesian_avg',ascending=False)"
   ]
  },
  {
   "cell_type": "markdown",
   "id": "e541a396",
   "metadata": {},
   "source": [
    "According to the bayesian average movies like `The Shawshank Redemption`, `The Godfather`, and `Fight Club` are the most popular movies."
   ]
  },
  {
   "cell_type": "code",
   "execution_count": 22,
   "id": "7b758ea9",
   "metadata": {},
   "outputs": [
    {
     "data": {
      "text/html": [
       "<div>\n",
       "<style scoped>\n",
       "    .dataframe tbody tr th:only-of-type {\n",
       "        vertical-align: middle;\n",
       "    }\n",
       "\n",
       "    .dataframe tbody tr th {\n",
       "        vertical-align: top;\n",
       "    }\n",
       "\n",
       "    .dataframe thead th {\n",
       "        text-align: right;\n",
       "    }\n",
       "</style>\n",
       "<table border=\"1\" class=\"dataframe\">\n",
       "  <thead>\n",
       "    <tr style=\"text-align: right;\">\n",
       "      <th></th>\n",
       "      <th>movieId</th>\n",
       "      <th>title</th>\n",
       "      <th>genres</th>\n",
       "      <th>bayesian_avg</th>\n",
       "    </tr>\n",
       "  </thead>\n",
       "  <tbody>\n",
       "    <tr>\n",
       "      <th>1172</th>\n",
       "      <td>1556</td>\n",
       "      <td>Speed 2: Cruise Control (1997)</td>\n",
       "      <td>Action|Romance|Thriller</td>\n",
       "      <td>2.19</td>\n",
       "    </tr>\n",
       "    <tr>\n",
       "      <th>2679</th>\n",
       "      <td>3593</td>\n",
       "      <td>Battlefield Earth (2000)</td>\n",
       "      <td>Action|Sci-Fi</td>\n",
       "      <td>2.22</td>\n",
       "    </tr>\n",
       "    <tr>\n",
       "      <th>1372</th>\n",
       "      <td>1882</td>\n",
       "      <td>Godzilla (1998)</td>\n",
       "      <td>Action|Sci-Fi|Thriller</td>\n",
       "      <td>2.27</td>\n",
       "    </tr>\n",
       "    <tr>\n",
       "      <th>1144</th>\n",
       "      <td>1499</td>\n",
       "      <td>Anaconda (1997)</td>\n",
       "      <td>Action|Adventure|Thriller</td>\n",
       "      <td>2.30</td>\n",
       "    </tr>\n",
       "    <tr>\n",
       "      <th>1988</th>\n",
       "      <td>2643</td>\n",
       "      <td>Superman IV: The Quest for Peace (1987)</td>\n",
       "      <td>Action|Adventure|Sci-Fi</td>\n",
       "      <td>2.31</td>\n",
       "    </tr>\n",
       "    <tr>\n",
       "      <th>...</th>\n",
       "      <td>...</td>\n",
       "      <td>...</td>\n",
       "      <td>...</td>\n",
       "      <td>...</td>\n",
       "    </tr>\n",
       "    <tr>\n",
       "      <th>46</th>\n",
       "      <td>50</td>\n",
       "      <td>Usual Suspects, The (1995)</td>\n",
       "      <td>Crime|Mystery|Thriller</td>\n",
       "      <td>4.19</td>\n",
       "    </tr>\n",
       "    <tr>\n",
       "      <th>224</th>\n",
       "      <td>260</td>\n",
       "      <td>Star Wars: Episode IV - A New Hope (1977)</td>\n",
       "      <td>Action|Adventure|Sci-Fi</td>\n",
       "      <td>4.19</td>\n",
       "    </tr>\n",
       "    <tr>\n",
       "      <th>2224</th>\n",
       "      <td>2959</td>\n",
       "      <td>Fight Club (1999)</td>\n",
       "      <td>Action|Crime|Drama|Thriller</td>\n",
       "      <td>4.23</td>\n",
       "    </tr>\n",
       "    <tr>\n",
       "      <th>659</th>\n",
       "      <td>858</td>\n",
       "      <td>Godfather, The (1972)</td>\n",
       "      <td>Crime|Drama</td>\n",
       "      <td>4.24</td>\n",
       "    </tr>\n",
       "    <tr>\n",
       "      <th>277</th>\n",
       "      <td>318</td>\n",
       "      <td>Shawshank Redemption, The (1994)</td>\n",
       "      <td>Crime|Drama</td>\n",
       "      <td>4.39</td>\n",
       "    </tr>\n",
       "  </tbody>\n",
       "</table>\n",
       "<p>9724 rows × 4 columns</p>\n",
       "</div>"
      ],
      "text/plain": [
       "      movieId                                      title  \\\n",
       "1172     1556             Speed 2: Cruise Control (1997)   \n",
       "2679     3593                   Battlefield Earth (2000)   \n",
       "1372     1882                            Godzilla (1998)   \n",
       "1144     1499                            Anaconda (1997)   \n",
       "1988     2643    Superman IV: The Quest for Peace (1987)   \n",
       "...       ...                                        ...   \n",
       "46         50                 Usual Suspects, The (1995)   \n",
       "224       260  Star Wars: Episode IV - A New Hope (1977)   \n",
       "2224     2959                          Fight Club (1999)   \n",
       "659       858                      Godfather, The (1972)   \n",
       "277       318           Shawshank Redemption, The (1994)   \n",
       "\n",
       "                           genres  bayesian_avg  \n",
       "1172      Action|Romance|Thriller          2.19  \n",
       "2679                Action|Sci-Fi          2.22  \n",
       "1372       Action|Sci-Fi|Thriller          2.27  \n",
       "1144    Action|Adventure|Thriller          2.30  \n",
       "1988      Action|Adventure|Sci-Fi          2.31  \n",
       "...                           ...           ...  \n",
       "46         Crime|Mystery|Thriller          4.19  \n",
       "224       Action|Adventure|Sci-Fi          4.19  \n",
       "2224  Action|Crime|Drama|Thriller          4.23  \n",
       "659                   Crime|Drama          4.24  \n",
       "277                   Crime|Drama          4.39  \n",
       "\n",
       "[9724 rows x 4 columns]"
      ]
     },
     "execution_count": 22,
     "metadata": {},
     "output_type": "execute_result"
    }
   ],
   "source": [
    "movie_title_bayes.sort_values(by='bayesian_avg',ascending=True)"
   ]
  },
  {
   "cell_type": "markdown",
   "id": "e48f11b9",
   "metadata": {},
   "source": [
    "According to the bayesian average, movies like `Speed 2` and `Battlefield Earth` are the worst rated movies."
   ]
  },
  {
   "cell_type": "markdown",
   "id": "901d0514",
   "metadata": {},
   "source": [
    "**Cleaning the Movies dataset for genre and year**"
   ]
  },
  {
   "cell_type": "markdown",
   "id": "a147f714",
   "metadata": {},
   "source": [
    "The movies data needs to be cleaned in two ways.\n",
    "\n",
    "Genre is expressed as a string with a pipe separating each genre. We will manipulate this string into a list.\\\n",
    "\n",
    "Title currently has year appended at the end. We will extract year from each title string and create a new column for it."
   ]
  },
  {
   "cell_type": "code",
   "execution_count": 23,
   "id": "e0a37586",
   "metadata": {},
   "outputs": [
    {
     "data": {
      "text/html": [
       "<div>\n",
       "<style scoped>\n",
       "    .dataframe tbody tr th:only-of-type {\n",
       "        vertical-align: middle;\n",
       "    }\n",
       "\n",
       "    .dataframe tbody tr th {\n",
       "        vertical-align: top;\n",
       "    }\n",
       "\n",
       "    .dataframe thead th {\n",
       "        text-align: right;\n",
       "    }\n",
       "</style>\n",
       "<table border=\"1\" class=\"dataframe\">\n",
       "  <thead>\n",
       "    <tr style=\"text-align: right;\">\n",
       "      <th></th>\n",
       "      <th>movieId</th>\n",
       "      <th>title</th>\n",
       "      <th>genres</th>\n",
       "    </tr>\n",
       "  </thead>\n",
       "  <tbody>\n",
       "    <tr>\n",
       "      <th>0</th>\n",
       "      <td>1</td>\n",
       "      <td>Toy Story (1995)</td>\n",
       "      <td>Adventure|Animation|Children|Comedy|Fantasy</td>\n",
       "    </tr>\n",
       "    <tr>\n",
       "      <th>1</th>\n",
       "      <td>2</td>\n",
       "      <td>Jumanji (1995)</td>\n",
       "      <td>Adventure|Children|Fantasy</td>\n",
       "    </tr>\n",
       "    <tr>\n",
       "      <th>2</th>\n",
       "      <td>3</td>\n",
       "      <td>Grumpier Old Men (1995)</td>\n",
       "      <td>Comedy|Romance</td>\n",
       "    </tr>\n",
       "    <tr>\n",
       "      <th>3</th>\n",
       "      <td>4</td>\n",
       "      <td>Waiting to Exhale (1995)</td>\n",
       "      <td>Comedy|Drama|Romance</td>\n",
       "    </tr>\n",
       "    <tr>\n",
       "      <th>4</th>\n",
       "      <td>5</td>\n",
       "      <td>Father of the Bride Part II (1995)</td>\n",
       "      <td>Comedy</td>\n",
       "    </tr>\n",
       "  </tbody>\n",
       "</table>\n",
       "</div>"
      ],
      "text/plain": [
       "   movieId                               title  \\\n",
       "0        1                    Toy Story (1995)   \n",
       "1        2                      Jumanji (1995)   \n",
       "2        3             Grumpier Old Men (1995)   \n",
       "3        4            Waiting to Exhale (1995)   \n",
       "4        5  Father of the Bride Part II (1995)   \n",
       "\n",
       "                                        genres  \n",
       "0  Adventure|Animation|Children|Comedy|Fantasy  \n",
       "1                   Adventure|Children|Fantasy  \n",
       "2                               Comedy|Romance  \n",
       "3                         Comedy|Drama|Romance  \n",
       "4                                       Comedy  "
      ]
     },
     "execution_count": 23,
     "metadata": {},
     "output_type": "execute_result"
    }
   ],
   "source": [
    "movies.head()"
   ]
  },
  {
   "cell_type": "code",
   "execution_count": 24,
   "id": "7a4175a0",
   "metadata": {},
   "outputs": [],
   "source": [
    "movies['genres'] = movies['genres'].apply(lambda x:x.split('|'))"
   ]
  },
  {
   "cell_type": "code",
   "execution_count": 25,
   "id": "e961606d",
   "metadata": {},
   "outputs": [
    {
     "data": {
      "text/html": [
       "<div>\n",
       "<style scoped>\n",
       "    .dataframe tbody tr th:only-of-type {\n",
       "        vertical-align: middle;\n",
       "    }\n",
       "\n",
       "    .dataframe tbody tr th {\n",
       "        vertical-align: top;\n",
       "    }\n",
       "\n",
       "    .dataframe thead th {\n",
       "        text-align: right;\n",
       "    }\n",
       "</style>\n",
       "<table border=\"1\" class=\"dataframe\">\n",
       "  <thead>\n",
       "    <tr style=\"text-align: right;\">\n",
       "      <th></th>\n",
       "      <th>movieId</th>\n",
       "      <th>title</th>\n",
       "      <th>genres</th>\n",
       "    </tr>\n",
       "  </thead>\n",
       "  <tbody>\n",
       "    <tr>\n",
       "      <th>0</th>\n",
       "      <td>1</td>\n",
       "      <td>Toy Story (1995)</td>\n",
       "      <td>[Adventure, Animation, Children, Comedy, Fantasy]</td>\n",
       "    </tr>\n",
       "    <tr>\n",
       "      <th>1</th>\n",
       "      <td>2</td>\n",
       "      <td>Jumanji (1995)</td>\n",
       "      <td>[Adventure, Children, Fantasy]</td>\n",
       "    </tr>\n",
       "    <tr>\n",
       "      <th>2</th>\n",
       "      <td>3</td>\n",
       "      <td>Grumpier Old Men (1995)</td>\n",
       "      <td>[Comedy, Romance]</td>\n",
       "    </tr>\n",
       "    <tr>\n",
       "      <th>3</th>\n",
       "      <td>4</td>\n",
       "      <td>Waiting to Exhale (1995)</td>\n",
       "      <td>[Comedy, Drama, Romance]</td>\n",
       "    </tr>\n",
       "    <tr>\n",
       "      <th>4</th>\n",
       "      <td>5</td>\n",
       "      <td>Father of the Bride Part II (1995)</td>\n",
       "      <td>[Comedy]</td>\n",
       "    </tr>\n",
       "  </tbody>\n",
       "</table>\n",
       "</div>"
      ],
      "text/plain": [
       "   movieId                               title  \\\n",
       "0        1                    Toy Story (1995)   \n",
       "1        2                      Jumanji (1995)   \n",
       "2        3             Grumpier Old Men (1995)   \n",
       "3        4            Waiting to Exhale (1995)   \n",
       "4        5  Father of the Bride Part II (1995)   \n",
       "\n",
       "                                              genres  \n",
       "0  [Adventure, Animation, Children, Comedy, Fantasy]  \n",
       "1                     [Adventure, Children, Fantasy]  \n",
       "2                                  [Comedy, Romance]  \n",
       "3                           [Comedy, Drama, Romance]  \n",
       "4                                           [Comedy]  "
      ]
     },
     "execution_count": 25,
     "metadata": {},
     "output_type": "execute_result"
    }
   ],
   "source": [
    "movies.head()"
   ]
  },
  {
   "cell_type": "code",
   "execution_count": 26,
   "id": "d38a0a4e",
   "metadata": {},
   "outputs": [
    {
     "name": "stdout",
     "output_type": "stream",
     "text": [
      "There are 20 genres in this dataset\n"
     ]
    },
    {
     "data": {
      "text/plain": [
       "Counter({'Adventure': 1263,\n",
       "         'Animation': 611,\n",
       "         'Children': 664,\n",
       "         'Comedy': 3756,\n",
       "         'Fantasy': 779,\n",
       "         'Romance': 1596,\n",
       "         'Drama': 4361,\n",
       "         'Action': 1828,\n",
       "         'Crime': 1199,\n",
       "         'Thriller': 1894,\n",
       "         'Horror': 978,\n",
       "         'Mystery': 573,\n",
       "         'Sci-Fi': 980,\n",
       "         'War': 382,\n",
       "         'Musical': 334,\n",
       "         'Documentary': 440,\n",
       "         'IMAX': 158,\n",
       "         'Western': 167,\n",
       "         'Film-Noir': 87,\n",
       "         '(no genres listed)': 34})"
      ]
     },
     "execution_count": 26,
     "metadata": {},
     "output_type": "execute_result"
    }
   ],
   "source": [
    "from collections import Counter\n",
    "\n",
    "genre_frequency = Counter(g for genres in movies['genres'] for g in genres)\n",
    "\n",
    "print(f\"There are {len(genre_frequency)} genres in this dataset\")\n",
    "\n",
    "genre_frequency"
   ]
  },
  {
   "cell_type": "markdown",
   "id": "e141e3fa",
   "metadata": {},
   "source": [
    "The most popular genres are Adventure, Animation, Children, Comedy, and Fantasy"
   ]
  },
  {
   "cell_type": "code",
   "execution_count": 27,
   "id": "2d7ddc8c",
   "metadata": {},
   "outputs": [
    {
     "data": {
      "image/png": "[encoded data removed]",
      "text/plain": [
       "<Figure size 432x288 with 1 Axes>"
      ]
     },
     "metadata": {
      "needs_background": "light"
     },
     "output_type": "display_data"
    }
   ],
   "source": [
    "genre_frequency_df = pd.DataFrame([genre_frequency]).T.reset_index()\n",
    "genre_frequency_df.columns = ['genres','count']\n",
    "sns.barplot(data=genre_frequency_df.sort_values(by='count',ascending=False),x = 'genres', y='count')\n",
    "plt.xticks(rotation = 90)\n",
    "plt.show()"
   ]
  },
  {
   "cell_type": "markdown",
   "id": "4a8b7613",
   "metadata": {},
   "source": [
    "**4. Data Preprocessing**"
   ]
  },
  {
   "cell_type": "markdown",
   "id": "06de0b2e",
   "metadata": {},
   "source": [
    "We are going to use collaborative filtering to generate recommendations for users. This technique is based on the premise that similar people like similar things. \n",
    "\n",
    "The first step is to transform our data into a user-item matrix. In this matrix, rows represent users and columns represent movies. Collaborative filtering is solely based on the movie recommendation of each user.\n",
    "\n",
    "<img src=\"images/collaborative_filtering.png\" width=50%/>"
   ]
  },
  {
   "cell_type": "markdown",
   "id": "711fa3c2",
   "metadata": {},
   "source": [
    "The `create_X()` function outputs a sparse matrix X with four mapper dictionaries"
   ]
  },
  {
   "cell_type": "markdown",
   "id": "a730e979",
   "metadata": {},
   "source": [
    "We need these dictionaries because they map which row/column of the utility matrix corresponds to which user/movie id"
   ]
  },
  {
   "cell_type": "markdown",
   "id": "b7c50799",
   "metadata": {},
   "source": [
    "$\\bullet$ **user_mapper:** maps user id to user index\\\n",
    "$\\bullet$ **movie_mapper:** maps movie id to movie index\\\n",
    "$\\bullet$ **user_inv_mapper:** maps user index to user id\\\n",
    "$\\bullet$ **movie_inv_mapper:** maps movie index to movie id\\\n",
    "\n",
    "Our $X$ (user-item) matrix is a scipy.sparse.csr_matrix which stores the data sparsely"
   ]
  },
  {
   "cell_type": "code",
   "execution_count": 28,
   "id": "8899ea0f",
   "metadata": {},
   "outputs": [],
   "source": [
    "from scipy.sparse import csr_matrix\n",
    "\n",
    "def create_X(df):\n",
    "    \n",
    "    M = df['userId'].nunique()\n",
    "    N = df['movieId'].nunique()\n",
    "    \n",
    "    user_mapper = dict(zip(np.unique(df['userId']),list(range(M))))\n",
    "    movie_mapper = dict(zip(np.unique(df['movieId']),list(range(N))))\n",
    "    \n",
    "    user_inv_mapper = dict(zip(list(range(M)),np.unique(df['userId'])))\n",
    "    movie_inv_mapper = dict(zip(list(range(N)),np.unique(df['movieId'])))\n",
    "    \n",
    "    user_index = [user_mapper[i] for i in df['userId']]\n",
    "    item_index = [movie_mapper[i] for i in df['movieId']]\n",
    "    \n",
    "    X = csr_matrix((df['rating'], (user_index,item_index)), shape = (M,N))\n",
    "    \n",
    "    return X, user_mapper, movie_mapper, user_inv_mapper, movie_inv_mapper"
   ]
  },
  {
   "cell_type": "code",
   "execution_count": 29,
   "id": "fda5a831",
   "metadata": {},
   "outputs": [],
   "source": [
    "X, user_mapper, movie_mapper, user_inv_mapper, movie_inv_mapper = create_X(ratings)"
   ]
  },
  {
   "cell_type": "code",
   "execution_count": 30,
   "id": "b9dc127a",
   "metadata": {},
   "outputs": [
    {
     "data": {
      "text/plain": [
       "(610, 9724)"
      ]
     },
     "execution_count": 30,
     "metadata": {},
     "output_type": "execute_result"
    }
   ],
   "source": [
    "X.shape"
   ]
  },
  {
   "cell_type": "markdown",
   "id": "db55f02c",
   "metadata": {},
   "source": [
    "Our X Matrix contains 610 users and 9724 movies"
   ]
  },
  {
   "cell_type": "markdown",
   "id": "d889d358",
   "metadata": {},
   "source": [
    "**Evaluating sparsity**"
   ]
  },
  {
   "cell_type": "markdown",
   "id": "68b42016",
   "metadata": {},
   "source": [
    "Here we calcualte sparsity by dividing the number of stored elements by total number of elements. The number of stored (non-empty) elements in our matrix ([nnz](https://docs.scipy.org/doc/scipy/reference/generated/scipy.sparse.csr_matrix.nnz.html)) is equivalent to the number of ratings in our dataset."
   ]
  },
  {
   "cell_type": "markdown",
   "id": "a79f1785",
   "metadata": {},
   "source": [
    "`csr_matrix.nnz` counts the stored values in our sparse matrix. The rest of our cells are empty.\n",
    "\n",
    "The **cold start problem** is when there are new users and movies in our matrix that do not have any ratings. In our Movielens dataset, all users and movies have at least one rating but in general, it's useful to check which users and movies have few interactions."
   ]
  },
  {
   "cell_type": "code",
   "execution_count": 31,
   "id": "7c966ec7",
   "metadata": {},
   "outputs": [
    {
     "name": "stdout",
     "output_type": "stream",
     "text": [
      "Matrix Sparsity 1.7\n"
     ]
    }
   ],
   "source": [
    "n_total = X.shape[0]*X.shape[1]\n",
    "n_ratings = X.nnz\n",
    "sparsity = n_ratings/n_total\n",
    "print(f\"Matrix Sparsity {round(sparsity*100,2)}\")"
   ]
  },
  {
   "cell_type": "code",
   "execution_count": 32,
   "id": "6939501b",
   "metadata": {},
   "outputs": [
    {
     "data": {
      "text/plain": [
       "610"
      ]
     },
     "execution_count": 32,
     "metadata": {},
     "output_type": "execute_result"
    }
   ],
   "source": [
    "n_ratings_per_user = X.getnnz(axis=1)\n",
    "len(n_ratings_per_user)"
   ]
  },
  {
   "cell_type": "code",
   "execution_count": 33,
   "id": "b48cfd20",
   "metadata": {},
   "outputs": [
    {
     "name": "stdout",
     "output_type": "stream",
     "text": [
      "Most active user rated 2698 movies\n",
      "Least active user rated 20 movies\n"
     ]
    }
   ],
   "source": [
    "print(f\"Most active user rated {n_ratings_per_user.max()} movies\")\n",
    "print(f\"Least active user rated {n_ratings_per_user.min()} movies\")"
   ]
  },
  {
   "cell_type": "code",
   "execution_count": 34,
   "id": "cb280b83",
   "metadata": {},
   "outputs": [
    {
     "data": {
      "text/plain": [
       "9724"
      ]
     },
     "execution_count": 34,
     "metadata": {},
     "output_type": "execute_result"
    }
   ],
   "source": [
    "n_ratings_per_movie = X.getnnz(axis=0)\n",
    "len(n_ratings_per_movie)"
   ]
  },
  {
   "cell_type": "code",
   "execution_count": 35,
   "id": "843285b1",
   "metadata": {},
   "outputs": [
    {
     "name": "stdout",
     "output_type": "stream",
     "text": [
      "Movie with most ratings 329 ratings\n",
      "Movie with most ratings 1 ratings\n"
     ]
    }
   ],
   "source": [
    "print(f\"Movie with most ratings {n_ratings_per_movie.max()} ratings\")\n",
    "print(f\"Movie with most ratings {n_ratings_per_movie.min()} ratings\")"
   ]
  },
  {
   "cell_type": "code",
   "execution_count": 36,
   "id": "46cb23da",
   "metadata": {},
   "outputs": [
    {
     "data": {
      "image/png": "[encoded data removed]",
      "text/plain": [
       "<Figure size 1152x288 with 2 Axes>"
      ]
     },
     "metadata": {
      "needs_background": "light"
     },
     "output_type": "display_data"
    }
   ],
   "source": [
    "plt.figure(figsize=(16,4))\n",
    "plt.subplot(1,2,1)\n",
    "sns.kdeplot(n_ratings_per_user, shade=True)\n",
    "plt.xlim(0)\n",
    "plt.title(\"Number of Ratings Per User\", fontsize=14)\n",
    "plt.xlabel(\"number of ratings per user\")\n",
    "plt.ylabel(\"density\")\n",
    "plt.subplot(1,2,2)\n",
    "sns.kdeplot(n_ratings_per_movie, shade=True)\n",
    "plt.xlim(0)\n",
    "plt.title(\"Number of Ratings Per Movie\", fontsize=14)\n",
    "plt.xlabel(\"number of ratings per movie\")\n",
    "plt.ylabel(\"density\")\n",
    "plt.show()"
   ]
  },
  {
   "cell_type": "markdown",
   "id": "0a1d82b3",
   "metadata": {},
   "source": [
    "**Step 5: Item-Item Recommendations with K-Nearest Neighbors**"
   ]
  },
  {
   "cell_type": "markdown",
   "id": "37f833fa",
   "metadata": {},
   "source": [
    "We are going to find the $k$ movies that have the most similar use engagement vectors for movie $i$"
   ]
  },
  {
   "cell_type": "code",
   "execution_count": 37,
   "id": "489dd7e3",
   "metadata": {},
   "outputs": [],
   "source": [
    "from sklearn.neighbors import NearestNeighbors\n",
    "\n",
    "def find_similar_movies(movie_id, X, movie_mapper, movie_inv_mapper, k, metric='cosine'):\n",
    "    \n",
    "    \"\"\"\n",
    "    Finds k-nearest neighbors for a given movie id.\n",
    "    \n",
    "    Args: \n",
    "    \n",
    "    movie_id: id of the movie of interest\n",
    "    X: user-item utility matrix\n",
    "    k: number of similar movies to retrieve.\n",
    "    metric: distance metric for KNN calculations\n",
    "    \n",
    "    Output: returns list of k similar movie IDs\n",
    "    \n",
    "    \"\"\"\n",
    "    \n",
    "    X = X.T\n",
    "    \n",
    "    neighbour_ids = []\n",
    "    \n",
    "    movie_ind = movie_mapper[movie_id]\n",
    "    movie_vec = X[movie_ind]\n",
    "    \n",
    "    if isinstance(movie_vec,(np.ndarray)):\n",
    "        movie_vec = movie_vec.reshape(1,-1)\n",
    "        \n",
    "    #use K+1 since KNN output includes the movieID of interest\n",
    "    \n",
    "    kNN = NearestNeighbors(n_neighbors = k+1, algorithm = \"brute\", metric = metric)\n",
    "    \n",
    "    kNN.fit(X)\n",
    "    \n",
    "    neighbor = kNN.kneighbors(movie_vec, return_distance=False)\n",
    "    \n",
    "    for i in range(0,k):\n",
    "        \n",
    "        n = neighbor.item(i)\n",
    "        \n",
    "        neighbour_ids.append(movie_inv_mapper[n])\n",
    "        \n",
    "    neighbour_ids.pop(0)\n",
    "    \n",
    "    return neighbour_ids"
   ]
  },
  {
   "cell_type": "markdown",
   "id": "d3eaf3a8",
   "metadata": {},
   "source": [
    "`find_similar_movies()` takes in a `movie id`and X matrix and outputs a list of $k$ movies that are similar to the movieid of interest"
   ]
  },
  {
   "cell_type": "markdown",
   "id": "86acc630",
   "metadata": {},
   "source": [
    "Below is how it works."
   ]
  },
  {
   "cell_type": "code",
   "execution_count": 38,
   "id": "b9db3ee7",
   "metadata": {},
   "outputs": [],
   "source": [
    "similar_movies = find_similar_movies(1, X, movie_mapper, movie_inv_mapper, 10)"
   ]
  },
  {
   "cell_type": "code",
   "execution_count": 39,
   "id": "f8f87b2e",
   "metadata": {},
   "outputs": [
    {
     "data": {
      "text/plain": [
       "[3114, 480, 780, 260, 356, 364, 1210, 648, 1265]"
      ]
     },
     "execution_count": 39,
     "metadata": {},
     "output_type": "execute_result"
    }
   ],
   "source": [
    "similar_movies"
   ]
  },
  {
   "cell_type": "markdown",
   "id": "a4932615",
   "metadata": {},
   "source": [
    "find_similar_movies() returns a list of movie_ids that are most similar to your movie of interest.\n",
    "We will make a dictionary mapping the ids into titles."
   ]
  },
  {
   "cell_type": "code",
   "execution_count": 40,
   "id": "5250fbd5",
   "metadata": {},
   "outputs": [
    {
     "name": "stdout",
     "output_type": "stream",
     "text": [
      "Because you watched Toy Story (1995)\n",
      "Watch Toy Story 2 (1999)\n",
      "Watch Jurassic Park (1993)\n",
      "Watch Independence Day (a.k.a. ID4) (1996)\n",
      "Watch Star Wars: Episode IV - A New Hope (1977)\n",
      "Watch Forrest Gump (1994)\n",
      "Watch Lion King, The (1994)\n",
      "Watch Star Wars: Episode VI - Return of the Jedi (1983)\n",
      "Watch Mission: Impossible (1996)\n",
      "Watch Groundhog Day (1993)\n"
     ]
    }
   ],
   "source": [
    "movie_titles = dict(zip(movies['movieId'],movies['title']))\n",
    "\n",
    "movie_id = 1\n",
    "\n",
    "similar_movies = find_similar_movies(1, X, movie_mapper, movie_inv_mapper, 10)\n",
    "\n",
    "movie_title = movie_titles[movie_id]\n",
    "\n",
    "print(f\"Because you watched {movie_title}\")\n",
    "\n",
    "for i in similar_movies:\n",
    "    print(f\"Watch {movie_titles[i]}\")"
   ]
  },
  {
   "cell_type": "markdown",
   "id": "b8533e79",
   "metadata": {},
   "source": [
    "The results above show the 10 movies that are most similar to Toy Story. The recommendation system seems to be working well as it has recommended family friendly movies from the 90s. These recommendations are based solely on user-item ratings."
   ]
  },
  {
   "cell_type": "markdown",
   "id": "c4e64f8b",
   "metadata": {},
   "source": [
    "Below are recommended movies using euclidean distance"
   ]
  },
  {
   "cell_type": "code",
   "execution_count": 41,
   "id": "77b82464",
   "metadata": {
    "scrolled": true
   },
   "outputs": [
    {
     "name": "stdout",
     "output_type": "stream",
     "text": [
      "Because you watched Toy Story (1995)\n",
      "Watch Toy Story 2 (1999)\n",
      "Watch Mission: Impossible (1996)\n",
      "Watch Independence Day (a.k.a. ID4) (1996)\n",
      "Watch Bug's Life, A (1998)\n",
      "Watch Nutty Professor, The (1996)\n",
      "Watch Willy Wonka & the Chocolate Factory (1971)\n",
      "Watch Babe (1995)\n",
      "Watch Groundhog Day (1993)\n",
      "Watch Mask, The (1994)\n"
     ]
    }
   ],
   "source": [
    "movie_id = 1\n",
    "\n",
    "similar_movies = find_similar_movies(1, X, movie_mapper, movie_inv_mapper, 10, metric = 'euclidean')\n",
    "\n",
    "movie_title = movie_titles[movie_id]\n",
    "\n",
    "print(f\"Because you watched {movie_title}\")\n",
    "\n",
    "for i in similar_movies:\n",
    "    print(f\"Watch {movie_titles[i]}\")"
   ]
  },
  {
   "cell_type": "markdown",
   "id": "1e022b1c",
   "metadata": {},
   "source": [
    "**Step 6: Handling the cold-start problem**"
   ]
  },
  {
   "cell_type": "markdown",
   "id": "788a1dba",
   "metadata": {},
   "source": [
    "Collaborative filtering relies solely on user-item interactions within the utility matrix.\n",
    "\n",
    "The problem with this model is that brand new users or items with no interactions get excluded from the recommendation system.\n",
    "\n",
    "This is called the cold start problem.\n",
    "\n",
    "Content based filtering is a way to handle this problem by generating recommendations based on user and item features."
   ]
  },
  {
   "cell_type": "markdown",
   "id": "bcfa9156",
   "metadata": {},
   "source": [
    "First, we need to convert the `genres` column into binary features. Each genre will have its own column in the dataframe and will be populated with 0 or 1."
   ]
  },
  {
   "cell_type": "code",
   "execution_count": 42,
   "id": "750fa46a",
   "metadata": {},
   "outputs": [
    {
     "name": "stdout",
     "output_type": "stream",
     "text": [
      "There are 9742 unique movies in our movies dataset\n"
     ]
    }
   ],
   "source": [
    "n_movies = movies[\"movieId\"].nunique()\n",
    "print(f\"There are {n_movies} unique movies in our movies dataset\")"
   ]
  },
  {
   "cell_type": "code",
   "execution_count": 43,
   "id": "14dfca67",
   "metadata": {},
   "outputs": [
    {
     "data": {
      "text/html": [
       "<div>\n",
       "<style scoped>\n",
       "    .dataframe tbody tr th:only-of-type {\n",
       "        vertical-align: middle;\n",
       "    }\n",
       "\n",
       "    .dataframe tbody tr th {\n",
       "        vertical-align: top;\n",
       "    }\n",
       "\n",
       "    .dataframe thead th {\n",
       "        text-align: right;\n",
       "    }\n",
       "</style>\n",
       "<table border=\"1\" class=\"dataframe\">\n",
       "  <thead>\n",
       "    <tr style=\"text-align: right;\">\n",
       "      <th></th>\n",
       "      <th>movieId</th>\n",
       "      <th>title</th>\n",
       "      <th>genres</th>\n",
       "    </tr>\n",
       "  </thead>\n",
       "  <tbody>\n",
       "    <tr>\n",
       "      <th>0</th>\n",
       "      <td>1</td>\n",
       "      <td>Toy Story (1995)</td>\n",
       "      <td>[Adventure, Animation, Children, Comedy, Fantasy]</td>\n",
       "    </tr>\n",
       "    <tr>\n",
       "      <th>1</th>\n",
       "      <td>2</td>\n",
       "      <td>Jumanji (1995)</td>\n",
       "      <td>[Adventure, Children, Fantasy]</td>\n",
       "    </tr>\n",
       "    <tr>\n",
       "      <th>2</th>\n",
       "      <td>3</td>\n",
       "      <td>Grumpier Old Men (1995)</td>\n",
       "      <td>[Comedy, Romance]</td>\n",
       "    </tr>\n",
       "    <tr>\n",
       "      <th>3</th>\n",
       "      <td>4</td>\n",
       "      <td>Waiting to Exhale (1995)</td>\n",
       "      <td>[Comedy, Drama, Romance]</td>\n",
       "    </tr>\n",
       "    <tr>\n",
       "      <th>4</th>\n",
       "      <td>5</td>\n",
       "      <td>Father of the Bride Part II (1995)</td>\n",
       "      <td>[Comedy]</td>\n",
       "    </tr>\n",
       "    <tr>\n",
       "      <th>...</th>\n",
       "      <td>...</td>\n",
       "      <td>...</td>\n",
       "      <td>...</td>\n",
       "    </tr>\n",
       "    <tr>\n",
       "      <th>9737</th>\n",
       "      <td>193581</td>\n",
       "      <td>Black Butler: Book of the Atlantic (2017)</td>\n",
       "      <td>[Action, Animation, Comedy, Fantasy]</td>\n",
       "    </tr>\n",
       "    <tr>\n",
       "      <th>9738</th>\n",
       "      <td>193583</td>\n",
       "      <td>No Game No Life: Zero (2017)</td>\n",
       "      <td>[Animation, Comedy, Fantasy]</td>\n",
       "    </tr>\n",
       "    <tr>\n",
       "      <th>9739</th>\n",
       "      <td>193585</td>\n",
       "      <td>Flint (2017)</td>\n",
       "      <td>[Drama]</td>\n",
       "    </tr>\n",
       "    <tr>\n",
       "      <th>9740</th>\n",
       "      <td>193587</td>\n",
       "      <td>Bungo Stray Dogs: Dead Apple (2018)</td>\n",
       "      <td>[Action, Animation]</td>\n",
       "    </tr>\n",
       "    <tr>\n",
       "      <th>9741</th>\n",
       "      <td>193609</td>\n",
       "      <td>Andrew Dice Clay: Dice Rules (1991)</td>\n",
       "      <td>[Comedy]</td>\n",
       "    </tr>\n",
       "  </tbody>\n",
       "</table>\n",
       "<p>9742 rows × 3 columns</p>\n",
       "</div>"
      ],
      "text/plain": [
       "      movieId                                      title  \\\n",
       "0           1                           Toy Story (1995)   \n",
       "1           2                             Jumanji (1995)   \n",
       "2           3                    Grumpier Old Men (1995)   \n",
       "3           4                   Waiting to Exhale (1995)   \n",
       "4           5         Father of the Bride Part II (1995)   \n",
       "...       ...                                        ...   \n",
       "9737   193581  Black Butler: Book of the Atlantic (2017)   \n",
       "9738   193583               No Game No Life: Zero (2017)   \n",
       "9739   193585                               Flint (2017)   \n",
       "9740   193587        Bungo Stray Dogs: Dead Apple (2018)   \n",
       "9741   193609        Andrew Dice Clay: Dice Rules (1991)   \n",
       "\n",
       "                                                 genres  \n",
       "0     [Adventure, Animation, Children, Comedy, Fantasy]  \n",
       "1                        [Adventure, Children, Fantasy]  \n",
       "2                                     [Comedy, Romance]  \n",
       "3                              [Comedy, Drama, Romance]  \n",
       "4                                              [Comedy]  \n",
       "...                                                 ...  \n",
       "9737               [Action, Animation, Comedy, Fantasy]  \n",
       "9738                       [Animation, Comedy, Fantasy]  \n",
       "9739                                            [Drama]  \n",
       "9740                                [Action, Animation]  \n",
       "9741                                           [Comedy]  \n",
       "\n",
       "[9742 rows x 3 columns]"
      ]
     },
     "execution_count": 43,
     "metadata": {},
     "output_type": "execute_result"
    }
   ],
   "source": [
    "movies"
   ]
  },
  {
   "cell_type": "code",
   "execution_count": 44,
   "id": "627037da",
   "metadata": {},
   "outputs": [
    {
     "data": {
      "text/plain": [
       "{'(no genres listed)',\n",
       " 'Action',\n",
       " 'Adventure',\n",
       " 'Animation',\n",
       " 'Children',\n",
       " 'Comedy',\n",
       " 'Crime',\n",
       " 'Documentary',\n",
       " 'Drama',\n",
       " 'Fantasy',\n",
       " 'Film-Noir',\n",
       " 'Horror',\n",
       " 'IMAX',\n",
       " 'Musical',\n",
       " 'Mystery',\n",
       " 'Romance',\n",
       " 'Sci-Fi',\n",
       " 'Thriller',\n",
       " 'War',\n",
       " 'Western'}"
      ]
     },
     "execution_count": 44,
     "metadata": {},
     "output_type": "execute_result"
    }
   ],
   "source": [
    "genres = set(g for G in movies['genres'] for g in G)\n",
    "genres"
   ]
  },
  {
   "cell_type": "code",
   "execution_count": 45,
   "id": "771ba34f",
   "metadata": {},
   "outputs": [],
   "source": [
    "one_hot_encoded_df = []\n",
    "for rows in movies['genres']:\n",
    "    one_hot_encoded = [int(1) if genre in rows else int(0) for genre in genres]\n",
    "    one_hot_encoded_df.append(one_hot_encoded)"
   ]
  },
  {
   "cell_type": "code",
   "execution_count": 46,
   "id": "0c90b2e6",
   "metadata": {},
   "outputs": [],
   "source": [
    "genre_one_hot = pd.DataFrame(data=one_hot_encoded_df, index=None, columns=genres, dtype=None, copy=None)"
   ]
  },
  {
   "cell_type": "code",
   "execution_count": 47,
   "id": "316cbd2e",
   "metadata": {},
   "outputs": [
    {
     "data": {
      "text/html": [
       "<div>\n",
       "<style scoped>\n",
       "    .dataframe tbody tr th:only-of-type {\n",
       "        vertical-align: middle;\n",
       "    }\n",
       "\n",
       "    .dataframe tbody tr th {\n",
       "        vertical-align: top;\n",
       "    }\n",
       "\n",
       "    .dataframe thead th {\n",
       "        text-align: right;\n",
       "    }\n",
       "</style>\n",
       "<table border=\"1\" class=\"dataframe\">\n",
       "  <thead>\n",
       "    <tr style=\"text-align: right;\">\n",
       "      <th></th>\n",
       "      <th>Children</th>\n",
       "      <th>Crime</th>\n",
       "      <th>Action</th>\n",
       "      <th>Animation</th>\n",
       "      <th>Film-Noir</th>\n",
       "      <th>Fantasy</th>\n",
       "      <th>Sci-Fi</th>\n",
       "      <th>(no genres listed)</th>\n",
       "      <th>Thriller</th>\n",
       "      <th>War</th>\n",
       "      <th>Western</th>\n",
       "      <th>Mystery</th>\n",
       "      <th>Comedy</th>\n",
       "      <th>Horror</th>\n",
       "      <th>Musical</th>\n",
       "      <th>IMAX</th>\n",
       "      <th>Drama</th>\n",
       "      <th>Documentary</th>\n",
       "      <th>Adventure</th>\n",
       "      <th>Romance</th>\n",
       "    </tr>\n",
       "  </thead>\n",
       "  <tbody>\n",
       "    <tr>\n",
       "      <th>0</th>\n",
       "      <td>1</td>\n",
       "      <td>0</td>\n",
       "      <td>0</td>\n",
       "      <td>1</td>\n",
       "      <td>0</td>\n",
       "      <td>1</td>\n",
       "      <td>0</td>\n",
       "      <td>0</td>\n",
       "      <td>0</td>\n",
       "      <td>0</td>\n",
       "      <td>0</td>\n",
       "      <td>0</td>\n",
       "      <td>1</td>\n",
       "      <td>0</td>\n",
       "      <td>0</td>\n",
       "      <td>0</td>\n",
       "      <td>0</td>\n",
       "      <td>0</td>\n",
       "      <td>1</td>\n",
       "      <td>0</td>\n",
       "    </tr>\n",
       "    <tr>\n",
       "      <th>1</th>\n",
       "      <td>1</td>\n",
       "      <td>0</td>\n",
       "      <td>0</td>\n",
       "      <td>0</td>\n",
       "      <td>0</td>\n",
       "      <td>1</td>\n",
       "      <td>0</td>\n",
       "      <td>0</td>\n",
       "      <td>0</td>\n",
       "      <td>0</td>\n",
       "      <td>0</td>\n",
       "      <td>0</td>\n",
       "      <td>0</td>\n",
       "      <td>0</td>\n",
       "      <td>0</td>\n",
       "      <td>0</td>\n",
       "      <td>0</td>\n",
       "      <td>0</td>\n",
       "      <td>1</td>\n",
       "      <td>0</td>\n",
       "    </tr>\n",
       "    <tr>\n",
       "      <th>2</th>\n",
       "      <td>0</td>\n",
       "      <td>0</td>\n",
       "      <td>0</td>\n",
       "      <td>0</td>\n",
       "      <td>0</td>\n",
       "      <td>0</td>\n",
       "      <td>0</td>\n",
       "      <td>0</td>\n",
       "      <td>0</td>\n",
       "      <td>0</td>\n",
       "      <td>0</td>\n",
       "      <td>0</td>\n",
       "      <td>1</td>\n",
       "      <td>0</td>\n",
       "      <td>0</td>\n",
       "      <td>0</td>\n",
       "      <td>0</td>\n",
       "      <td>0</td>\n",
       "      <td>0</td>\n",
       "      <td>1</td>\n",
       "    </tr>\n",
       "    <tr>\n",
       "      <th>3</th>\n",
       "      <td>0</td>\n",
       "      <td>0</td>\n",
       "      <td>0</td>\n",
       "      <td>0</td>\n",
       "      <td>0</td>\n",
       "      <td>0</td>\n",
       "      <td>0</td>\n",
       "      <td>0</td>\n",
       "      <td>0</td>\n",
       "      <td>0</td>\n",
       "      <td>0</td>\n",
       "      <td>0</td>\n",
       "      <td>1</td>\n",
       "      <td>0</td>\n",
       "      <td>0</td>\n",
       "      <td>0</td>\n",
       "      <td>1</td>\n",
       "      <td>0</td>\n",
       "      <td>0</td>\n",
       "      <td>1</td>\n",
       "    </tr>\n",
       "    <tr>\n",
       "      <th>4</th>\n",
       "      <td>0</td>\n",
       "      <td>0</td>\n",
       "      <td>0</td>\n",
       "      <td>0</td>\n",
       "      <td>0</td>\n",
       "      <td>0</td>\n",
       "      <td>0</td>\n",
       "      <td>0</td>\n",
       "      <td>0</td>\n",
       "      <td>0</td>\n",
       "      <td>0</td>\n",
       "      <td>0</td>\n",
       "      <td>1</td>\n",
       "      <td>0</td>\n",
       "      <td>0</td>\n",
       "      <td>0</td>\n",
       "      <td>0</td>\n",
       "      <td>0</td>\n",
       "      <td>0</td>\n",
       "      <td>0</td>\n",
       "    </tr>\n",
       "    <tr>\n",
       "      <th>...</th>\n",
       "      <td>...</td>\n",
       "      <td>...</td>\n",
       "      <td>...</td>\n",
       "      <td>...</td>\n",
       "      <td>...</td>\n",
       "      <td>...</td>\n",
       "      <td>...</td>\n",
       "      <td>...</td>\n",
       "      <td>...</td>\n",
       "      <td>...</td>\n",
       "      <td>...</td>\n",
       "      <td>...</td>\n",
       "      <td>...</td>\n",
       "      <td>...</td>\n",
       "      <td>...</td>\n",
       "      <td>...</td>\n",
       "      <td>...</td>\n",
       "      <td>...</td>\n",
       "      <td>...</td>\n",
       "      <td>...</td>\n",
       "    </tr>\n",
       "    <tr>\n",
       "      <th>9737</th>\n",
       "      <td>0</td>\n",
       "      <td>0</td>\n",
       "      <td>1</td>\n",
       "      <td>1</td>\n",
       "      <td>0</td>\n",
       "      <td>1</td>\n",
       "      <td>0</td>\n",
       "      <td>0</td>\n",
       "      <td>0</td>\n",
       "      <td>0</td>\n",
       "      <td>0</td>\n",
       "      <td>0</td>\n",
       "      <td>1</td>\n",
       "      <td>0</td>\n",
       "      <td>0</td>\n",
       "      <td>0</td>\n",
       "      <td>0</td>\n",
       "      <td>0</td>\n",
       "      <td>0</td>\n",
       "      <td>0</td>\n",
       "    </tr>\n",
       "    <tr>\n",
       "      <th>9738</th>\n",
       "      <td>0</td>\n",
       "      <td>0</td>\n",
       "      <td>0</td>\n",
       "      <td>1</td>\n",
       "      <td>0</td>\n",
       "      <td>1</td>\n",
       "      <td>0</td>\n",
       "      <td>0</td>\n",
       "      <td>0</td>\n",
       "      <td>0</td>\n",
       "      <td>0</td>\n",
       "      <td>0</td>\n",
       "      <td>1</td>\n",
       "      <td>0</td>\n",
       "      <td>0</td>\n",
       "      <td>0</td>\n",
       "      <td>0</td>\n",
       "      <td>0</td>\n",
       "      <td>0</td>\n",
       "      <td>0</td>\n",
       "    </tr>\n",
       "    <tr>\n",
       "      <th>9739</th>\n",
       "      <td>0</td>\n",
       "      <td>0</td>\n",
       "      <td>0</td>\n",
       "      <td>0</td>\n",
       "      <td>0</td>\n",
       "      <td>0</td>\n",
       "      <td>0</td>\n",
       "      <td>0</td>\n",
       "      <td>0</td>\n",
       "      <td>0</td>\n",
       "      <td>0</td>\n",
       "      <td>0</td>\n",
       "      <td>0</td>\n",
       "      <td>0</td>\n",
       "      <td>0</td>\n",
       "      <td>0</td>\n",
       "      <td>1</td>\n",
       "      <td>0</td>\n",
       "      <td>0</td>\n",
       "      <td>0</td>\n",
       "    </tr>\n",
       "    <tr>\n",
       "      <th>9740</th>\n",
       "      <td>0</td>\n",
       "      <td>0</td>\n",
       "      <td>1</td>\n",
       "      <td>1</td>\n",
       "      <td>0</td>\n",
       "      <td>0</td>\n",
       "      <td>0</td>\n",
       "      <td>0</td>\n",
       "      <td>0</td>\n",
       "      <td>0</td>\n",
       "      <td>0</td>\n",
       "      <td>0</td>\n",
       "      <td>0</td>\n",
       "      <td>0</td>\n",
       "      <td>0</td>\n",
       "      <td>0</td>\n",
       "      <td>0</td>\n",
       "      <td>0</td>\n",
       "      <td>0</td>\n",
       "      <td>0</td>\n",
       "    </tr>\n",
       "    <tr>\n",
       "      <th>9741</th>\n",
       "      <td>0</td>\n",
       "      <td>0</td>\n",
       "      <td>0</td>\n",
       "      <td>0</td>\n",
       "      <td>0</td>\n",
       "      <td>0</td>\n",
       "      <td>0</td>\n",
       "      <td>0</td>\n",
       "      <td>0</td>\n",
       "      <td>0</td>\n",
       "      <td>0</td>\n",
       "      <td>0</td>\n",
       "      <td>1</td>\n",
       "      <td>0</td>\n",
       "      <td>0</td>\n",
       "      <td>0</td>\n",
       "      <td>0</td>\n",
       "      <td>0</td>\n",
       "      <td>0</td>\n",
       "      <td>0</td>\n",
       "    </tr>\n",
       "  </tbody>\n",
       "</table>\n",
       "<p>9742 rows × 20 columns</p>\n",
       "</div>"
      ],
      "text/plain": [
       "      Children  Crime  Action  Animation  Film-Noir  Fantasy  Sci-Fi  \\\n",
       "0            1      0       0          1          0        1       0   \n",
       "1            1      0       0          0          0        1       0   \n",
       "2            0      0       0          0          0        0       0   \n",
       "3            0      0       0          0          0        0       0   \n",
       "4            0      0       0          0          0        0       0   \n",
       "...        ...    ...     ...        ...        ...      ...     ...   \n",
       "9737         0      0       1          1          0        1       0   \n",
       "9738         0      0       0          1          0        1       0   \n",
       "9739         0      0       0          0          0        0       0   \n",
       "9740         0      0       1          1          0        0       0   \n",
       "9741         0      0       0          0          0        0       0   \n",
       "\n",
       "      (no genres listed)  Thriller  War  Western  Mystery  Comedy  Horror  \\\n",
       "0                      0         0    0        0        0       1       0   \n",
       "1                      0         0    0        0        0       0       0   \n",
       "2                      0         0    0        0        0       1       0   \n",
       "3                      0         0    0        0        0       1       0   \n",
       "4                      0         0    0        0        0       1       0   \n",
       "...                  ...       ...  ...      ...      ...     ...     ...   \n",
       "9737                   0         0    0        0        0       1       0   \n",
       "9738                   0         0    0        0        0       1       0   \n",
       "9739                   0         0    0        0        0       0       0   \n",
       "9740                   0         0    0        0        0       0       0   \n",
       "9741                   0         0    0        0        0       1       0   \n",
       "\n",
       "      Musical  IMAX  Drama  Documentary  Adventure  Romance  \n",
       "0           0     0      0            0          1        0  \n",
       "1           0     0      0            0          1        0  \n",
       "2           0     0      0            0          0        1  \n",
       "3           0     0      1            0          0        1  \n",
       "4           0     0      0            0          0        0  \n",
       "...       ...   ...    ...          ...        ...      ...  \n",
       "9737        0     0      0            0          0        0  \n",
       "9738        0     0      0            0          0        0  \n",
       "9739        0     0      1            0          0        0  \n",
       "9740        0     0      0            0          0        0  \n",
       "9741        0     0      0            0          0        0  \n",
       "\n",
       "[9742 rows x 20 columns]"
      ]
     },
     "execution_count": 47,
     "metadata": {},
     "output_type": "execute_result"
    }
   ],
   "source": [
    "genre_one_hot"
   ]
  },
  {
   "cell_type": "code",
   "execution_count": 48,
   "id": "9cff73fe",
   "metadata": {},
   "outputs": [],
   "source": [
    "movies = pd.concat([movies, genre_one_hot], axis=1)"
   ]
  },
  {
   "cell_type": "code",
   "execution_count": 49,
   "id": "dc669a29",
   "metadata": {},
   "outputs": [
    {
     "data": {
      "text/html": [
       "<div>\n",
       "<style scoped>\n",
       "    .dataframe tbody tr th:only-of-type {\n",
       "        vertical-align: middle;\n",
       "    }\n",
       "\n",
       "    .dataframe tbody tr th {\n",
       "        vertical-align: top;\n",
       "    }\n",
       "\n",
       "    .dataframe thead th {\n",
       "        text-align: right;\n",
       "    }\n",
       "</style>\n",
       "<table border=\"1\" class=\"dataframe\">\n",
       "  <thead>\n",
       "    <tr style=\"text-align: right;\">\n",
       "      <th></th>\n",
       "      <th>movieId</th>\n",
       "      <th>title</th>\n",
       "      <th>genres</th>\n",
       "      <th>Children</th>\n",
       "      <th>Crime</th>\n",
       "      <th>Action</th>\n",
       "      <th>Animation</th>\n",
       "      <th>Film-Noir</th>\n",
       "      <th>Fantasy</th>\n",
       "      <th>Sci-Fi</th>\n",
       "      <th>...</th>\n",
       "      <th>Western</th>\n",
       "      <th>Mystery</th>\n",
       "      <th>Comedy</th>\n",
       "      <th>Horror</th>\n",
       "      <th>Musical</th>\n",
       "      <th>IMAX</th>\n",
       "      <th>Drama</th>\n",
       "      <th>Documentary</th>\n",
       "      <th>Adventure</th>\n",
       "      <th>Romance</th>\n",
       "    </tr>\n",
       "  </thead>\n",
       "  <tbody>\n",
       "    <tr>\n",
       "      <th>0</th>\n",
       "      <td>1</td>\n",
       "      <td>Toy Story (1995)</td>\n",
       "      <td>[Adventure, Animation, Children, Comedy, Fantasy]</td>\n",
       "      <td>1</td>\n",
       "      <td>0</td>\n",
       "      <td>0</td>\n",
       "      <td>1</td>\n",
       "      <td>0</td>\n",
       "      <td>1</td>\n",
       "      <td>0</td>\n",
       "      <td>...</td>\n",
       "      <td>0</td>\n",
       "      <td>0</td>\n",
       "      <td>1</td>\n",
       "      <td>0</td>\n",
       "      <td>0</td>\n",
       "      <td>0</td>\n",
       "      <td>0</td>\n",
       "      <td>0</td>\n",
       "      <td>1</td>\n",
       "      <td>0</td>\n",
       "    </tr>\n",
       "    <tr>\n",
       "      <th>1</th>\n",
       "      <td>2</td>\n",
       "      <td>Jumanji (1995)</td>\n",
       "      <td>[Adventure, Children, Fantasy]</td>\n",
       "      <td>1</td>\n",
       "      <td>0</td>\n",
       "      <td>0</td>\n",
       "      <td>0</td>\n",
       "      <td>0</td>\n",
       "      <td>1</td>\n",
       "      <td>0</td>\n",
       "      <td>...</td>\n",
       "      <td>0</td>\n",
       "      <td>0</td>\n",
       "      <td>0</td>\n",
       "      <td>0</td>\n",
       "      <td>0</td>\n",
       "      <td>0</td>\n",
       "      <td>0</td>\n",
       "      <td>0</td>\n",
       "      <td>1</td>\n",
       "      <td>0</td>\n",
       "    </tr>\n",
       "    <tr>\n",
       "      <th>2</th>\n",
       "      <td>3</td>\n",
       "      <td>Grumpier Old Men (1995)</td>\n",
       "      <td>[Comedy, Romance]</td>\n",
       "      <td>0</td>\n",
       "      <td>0</td>\n",
       "      <td>0</td>\n",
       "      <td>0</td>\n",
       "      <td>0</td>\n",
       "      <td>0</td>\n",
       "      <td>0</td>\n",
       "      <td>...</td>\n",
       "      <td>0</td>\n",
       "      <td>0</td>\n",
       "      <td>1</td>\n",
       "      <td>0</td>\n",
       "      <td>0</td>\n",
       "      <td>0</td>\n",
       "      <td>0</td>\n",
       "      <td>0</td>\n",
       "      <td>0</td>\n",
       "      <td>1</td>\n",
       "    </tr>\n",
       "    <tr>\n",
       "      <th>3</th>\n",
       "      <td>4</td>\n",
       "      <td>Waiting to Exhale (1995)</td>\n",
       "      <td>[Comedy, Drama, Romance]</td>\n",
       "      <td>0</td>\n",
       "      <td>0</td>\n",
       "      <td>0</td>\n",
       "      <td>0</td>\n",
       "      <td>0</td>\n",
       "      <td>0</td>\n",
       "      <td>0</td>\n",
       "      <td>...</td>\n",
       "      <td>0</td>\n",
       "      <td>0</td>\n",
       "      <td>1</td>\n",
       "      <td>0</td>\n",
       "      <td>0</td>\n",
       "      <td>0</td>\n",
       "      <td>1</td>\n",
       "      <td>0</td>\n",
       "      <td>0</td>\n",
       "      <td>1</td>\n",
       "    </tr>\n",
       "    <tr>\n",
       "      <th>4</th>\n",
       "      <td>5</td>\n",
       "      <td>Father of the Bride Part II (1995)</td>\n",
       "      <td>[Comedy]</td>\n",
       "      <td>0</td>\n",
       "      <td>0</td>\n",
       "      <td>0</td>\n",
       "      <td>0</td>\n",
       "      <td>0</td>\n",
       "      <td>0</td>\n",
       "      <td>0</td>\n",
       "      <td>...</td>\n",
       "      <td>0</td>\n",
       "      <td>0</td>\n",
       "      <td>1</td>\n",
       "      <td>0</td>\n",
       "      <td>0</td>\n",
       "      <td>0</td>\n",
       "      <td>0</td>\n",
       "      <td>0</td>\n",
       "      <td>0</td>\n",
       "      <td>0</td>\n",
       "    </tr>\n",
       "    <tr>\n",
       "      <th>...</th>\n",
       "      <td>...</td>\n",
       "      <td>...</td>\n",
       "      <td>...</td>\n",
       "      <td>...</td>\n",
       "      <td>...</td>\n",
       "      <td>...</td>\n",
       "      <td>...</td>\n",
       "      <td>...</td>\n",
       "      <td>...</td>\n",
       "      <td>...</td>\n",
       "      <td>...</td>\n",
       "      <td>...</td>\n",
       "      <td>...</td>\n",
       "      <td>...</td>\n",
       "      <td>...</td>\n",
       "      <td>...</td>\n",
       "      <td>...</td>\n",
       "      <td>...</td>\n",
       "      <td>...</td>\n",
       "      <td>...</td>\n",
       "      <td>...</td>\n",
       "    </tr>\n",
       "    <tr>\n",
       "      <th>9737</th>\n",
       "      <td>193581</td>\n",
       "      <td>Black Butler: Book of the Atlantic (2017)</td>\n",
       "      <td>[Action, Animation, Comedy, Fantasy]</td>\n",
       "      <td>0</td>\n",
       "      <td>0</td>\n",
       "      <td>1</td>\n",
       "      <td>1</td>\n",
       "      <td>0</td>\n",
       "      <td>1</td>\n",
       "      <td>0</td>\n",
       "      <td>...</td>\n",
       "      <td>0</td>\n",
       "      <td>0</td>\n",
       "      <td>1</td>\n",
       "      <td>0</td>\n",
       "      <td>0</td>\n",
       "      <td>0</td>\n",
       "      <td>0</td>\n",
       "      <td>0</td>\n",
       "      <td>0</td>\n",
       "      <td>0</td>\n",
       "    </tr>\n",
       "    <tr>\n",
       "      <th>9738</th>\n",
       "      <td>193583</td>\n",
       "      <td>No Game No Life: Zero (2017)</td>\n",
       "      <td>[Animation, Comedy, Fantasy]</td>\n",
       "      <td>0</td>\n",
       "      <td>0</td>\n",
       "      <td>0</td>\n",
       "      <td>1</td>\n",
       "      <td>0</td>\n",
       "      <td>1</td>\n",
       "      <td>0</td>\n",
       "      <td>...</td>\n",
       "      <td>0</td>\n",
       "      <td>0</td>\n",
       "      <td>1</td>\n",
       "      <td>0</td>\n",
       "      <td>0</td>\n",
       "      <td>0</td>\n",
       "      <td>0</td>\n",
       "      <td>0</td>\n",
       "      <td>0</td>\n",
       "      <td>0</td>\n",
       "    </tr>\n",
       "    <tr>\n",
       "      <th>9739</th>\n",
       "      <td>193585</td>\n",
       "      <td>Flint (2017)</td>\n",
       "      <td>[Drama]</td>\n",
       "      <td>0</td>\n",
       "      <td>0</td>\n",
       "      <td>0</td>\n",
       "      <td>0</td>\n",
       "      <td>0</td>\n",
       "      <td>0</td>\n",
       "      <td>0</td>\n",
       "      <td>...</td>\n",
       "      <td>0</td>\n",
       "      <td>0</td>\n",
       "      <td>0</td>\n",
       "      <td>0</td>\n",
       "      <td>0</td>\n",
       "      <td>0</td>\n",
       "      <td>1</td>\n",
       "      <td>0</td>\n",
       "      <td>0</td>\n",
       "      <td>0</td>\n",
       "    </tr>\n",
       "    <tr>\n",
       "      <th>9740</th>\n",
       "      <td>193587</td>\n",
       "      <td>Bungo Stray Dogs: Dead Apple (2018)</td>\n",
       "      <td>[Action, Animation]</td>\n",
       "      <td>0</td>\n",
       "      <td>0</td>\n",
       "      <td>1</td>\n",
       "      <td>1</td>\n",
       "      <td>0</td>\n",
       "      <td>0</td>\n",
       "      <td>0</td>\n",
       "      <td>...</td>\n",
       "      <td>0</td>\n",
       "      <td>0</td>\n",
       "      <td>0</td>\n",
       "      <td>0</td>\n",
       "      <td>0</td>\n",
       "      <td>0</td>\n",
       "      <td>0</td>\n",
       "      <td>0</td>\n",
       "      <td>0</td>\n",
       "      <td>0</td>\n",
       "    </tr>\n",
       "    <tr>\n",
       "      <th>9741</th>\n",
       "      <td>193609</td>\n",
       "      <td>Andrew Dice Clay: Dice Rules (1991)</td>\n",
       "      <td>[Comedy]</td>\n",
       "      <td>0</td>\n",
       "      <td>0</td>\n",
       "      <td>0</td>\n",
       "      <td>0</td>\n",
       "      <td>0</td>\n",
       "      <td>0</td>\n",
       "      <td>0</td>\n",
       "      <td>...</td>\n",
       "      <td>0</td>\n",
       "      <td>0</td>\n",
       "      <td>1</td>\n",
       "      <td>0</td>\n",
       "      <td>0</td>\n",
       "      <td>0</td>\n",
       "      <td>0</td>\n",
       "      <td>0</td>\n",
       "      <td>0</td>\n",
       "      <td>0</td>\n",
       "    </tr>\n",
       "  </tbody>\n",
       "</table>\n",
       "<p>9742 rows × 23 columns</p>\n",
       "</div>"
      ],
      "text/plain": [
       "      movieId                                      title  \\\n",
       "0           1                           Toy Story (1995)   \n",
       "1           2                             Jumanji (1995)   \n",
       "2           3                    Grumpier Old Men (1995)   \n",
       "3           4                   Waiting to Exhale (1995)   \n",
       "4           5         Father of the Bride Part II (1995)   \n",
       "...       ...                                        ...   \n",
       "9737   193581  Black Butler: Book of the Atlantic (2017)   \n",
       "9738   193583               No Game No Life: Zero (2017)   \n",
       "9739   193585                               Flint (2017)   \n",
       "9740   193587        Bungo Stray Dogs: Dead Apple (2018)   \n",
       "9741   193609        Andrew Dice Clay: Dice Rules (1991)   \n",
       "\n",
       "                                                 genres  Children  Crime  \\\n",
       "0     [Adventure, Animation, Children, Comedy, Fantasy]         1      0   \n",
       "1                        [Adventure, Children, Fantasy]         1      0   \n",
       "2                                     [Comedy, Romance]         0      0   \n",
       "3                              [Comedy, Drama, Romance]         0      0   \n",
       "4                                              [Comedy]         0      0   \n",
       "...                                                 ...       ...    ...   \n",
       "9737               [Action, Animation, Comedy, Fantasy]         0      0   \n",
       "9738                       [Animation, Comedy, Fantasy]         0      0   \n",
       "9739                                            [Drama]         0      0   \n",
       "9740                                [Action, Animation]         0      0   \n",
       "9741                                           [Comedy]         0      0   \n",
       "\n",
       "      Action  Animation  Film-Noir  Fantasy  Sci-Fi  ...  Western  Mystery  \\\n",
       "0          0          1          0        1       0  ...        0        0   \n",
       "1          0          0          0        1       0  ...        0        0   \n",
       "2          0          0          0        0       0  ...        0        0   \n",
       "3          0          0          0        0       0  ...        0        0   \n",
       "4          0          0          0        0       0  ...        0        0   \n",
       "...      ...        ...        ...      ...     ...  ...      ...      ...   \n",
       "9737       1          1          0        1       0  ...        0        0   \n",
       "9738       0          1          0        1       0  ...        0        0   \n",
       "9739       0          0          0        0       0  ...        0        0   \n",
       "9740       1          1          0        0       0  ...        0        0   \n",
       "9741       0          0          0        0       0  ...        0        0   \n",
       "\n",
       "      Comedy  Horror  Musical  IMAX  Drama  Documentary  Adventure  Romance  \n",
       "0          1       0        0     0      0            0          1        0  \n",
       "1          0       0        0     0      0            0          1        0  \n",
       "2          1       0        0     0      0            0          0        1  \n",
       "3          1       0        0     0      1            0          0        1  \n",
       "4          1       0        0     0      0            0          0        0  \n",
       "...      ...     ...      ...   ...    ...          ...        ...      ...  \n",
       "9737       1       0        0     0      0            0          0        0  \n",
       "9738       1       0        0     0      0            0          0        0  \n",
       "9739       0       0        0     0      1            0          0        0  \n",
       "9740       0       0        0     0      0            0          0        0  \n",
       "9741       1       0        0     0      0            0          0        0  \n",
       "\n",
       "[9742 rows x 23 columns]"
      ]
     },
     "execution_count": 49,
     "metadata": {},
     "output_type": "execute_result"
    }
   ],
   "source": [
    "movies"
   ]
  },
  {
   "cell_type": "code",
   "execution_count": 50,
   "id": "b766f47e",
   "metadata": {},
   "outputs": [],
   "source": [
    "movie_genres = genre_one_hot"
   ]
  },
  {
   "cell_type": "code",
   "execution_count": 51,
   "id": "e0a305e7",
   "metadata": {},
   "outputs": [
    {
     "name": "stdout",
     "output_type": "stream",
     "text": [
      "Dimensions of our genres cosine similarity matrix: (9742, 9742)\n"
     ]
    }
   ],
   "source": [
    "from sklearn.metrics.pairwise import cosine_similarity\n",
    "\n",
    "cosine_sim = cosine_similarity(movie_genres,movie_genres)\n",
    "\n",
    "print(f\"Dimensions of our genres cosine similarity matrix: {cosine_sim.shape}\")"
   ]
  },
  {
   "cell_type": "markdown",
   "id": "88f6760f",
   "metadata": {},
   "source": [
    "As expected, after passing the `movie_genres` dataframe into the cosine_similarity() function.\n",
    "\n",
    "we get a cosine similarity matrix of shape ($n_{movies}$,$n_{movies}$)\n",
    "\n",
    "This matrix is populated with values between 0 and 1 which represent the degree of similarity between movies along the x and y axis."
   ]
  },
  {
   "cell_type": "markdown",
   "id": "64cb1721",
   "metadata": {},
   "source": [
    "**Creating a movie finder function**\n",
    "\n",
    "Let's say we want to get recommendations for movies that are similar to Toy Story. To get results from our recommender, we need to know the exact title of a movie in our dataset.\n",
    "\n",
    "To make our recommender more user-friendly, we can use a Python package called [fuzzywuzzy](https://pypi.org/project/fuzzywuzzy/) which will find the most similar title to a string that you pass in. Let's create a function called `movie_finder()` which take advantage of fuzzywuzzy's string matching algorithm to get the most similar title to a user-inputted string."
   ]
  },
  {
   "cell_type": "code",
   "execution_count": 113,
   "id": "4f7668b8",
   "metadata": {},
   "outputs": [
    {
     "data": {
      "text/plain": [
       "array([1.        , 0.77459667, 0.31622777, ..., 0.        , 0.31622777,\n",
       "       0.4472136 ])"
      ]
     },
     "execution_count": 113,
     "metadata": {},
     "output_type": "execute_result"
    }
   ],
   "source": [
    "cosine_sim[0]"
   ]
  },
  {
   "cell_type": "markdown",
   "id": "ce311a79",
   "metadata": {},
   "source": [
    "Instead of using the mapper, we will use a function called fuzzy wuzzy to match movie id to title."
   ]
  },
  {
   "cell_type": "code",
   "execution_count": 114,
   "id": "7c1bf388",
   "metadata": {},
   "outputs": [],
   "source": [
    "from fuzzywuzzy import process\n",
    "\n",
    "def movie_finder(title):\n",
    "    all_titles = movies['title'].tolist()\n",
    "    closest_match = process.extractOne(title,all_titles)\n",
    "    return closest_match[0]"
   ]
  },
  {
   "cell_type": "markdown",
   "id": "b5278e3e",
   "metadata": {},
   "source": [
    "Testing this out with Toy Story"
   ]
  },
  {
   "cell_type": "code",
   "execution_count": 56,
   "id": "84fc9c48",
   "metadata": {},
   "outputs": [],
   "source": [
    "movie_title = movie_finder('Tiy Story')"
   ]
  },
  {
   "cell_type": "code",
   "execution_count": 65,
   "id": "e6e49f19",
   "metadata": {},
   "outputs": [
    {
     "data": {
      "text/plain": [
       "'Toy Story (1995)'"
      ]
     },
     "execution_count": 65,
     "metadata": {},
     "output_type": "execute_result"
    }
   ],
   "source": [
    "movie_title"
   ]
  },
  {
   "cell_type": "markdown",
   "id": "b2df4c63",
   "metadata": {},
   "source": [
    "To get recommendations for `Toy Story` with the cosine similarity score, we need to find its index in the cosine similarity matrix. To identify which row we should be looking at, we can create a movie index mapper which maps a movie title to the index that it represents in our matrix."
   ]
  },
  {
   "cell_type": "markdown",
   "id": "9203e4e8",
   "metadata": {},
   "source": [
    "Below, creating a movie index dictionary called `movie_idx` where the keys are movie titles and values are movie indices."
   ]
  },
  {
   "cell_type": "code",
   "execution_count": 68,
   "id": "9698c09d",
   "metadata": {},
   "outputs": [
    {
     "name": "stdout",
     "output_type": "stream",
     "text": [
      "movie index for Toy Story 0\n"
     ]
    }
   ],
   "source": [
    "movie_idx = dict(zip(movies['title'],list(movies.index)))\n",
    "idx = movie_idx[movie_title]\n",
    "print(f\"movie index for Toy Story {idx}\")"
   ]
  },
  {
   "cell_type": "markdown",
   "id": "3d0d5891",
   "metadata": {},
   "source": [
    "using movie idx we know that `Toy Story` is represented by 0 in the matrix. We can now find the top 10 movies similar to Toy Story using content filtering."
   ]
  },
  {
   "cell_type": "code",
   "execution_count": 79,
   "id": "ef8af4d2",
   "metadata": {},
   "outputs": [],
   "source": [
    "n_recommendations = 10\n",
    "sim_scores = list(enumerate(cosine_sim[idx]))\n",
    "sim_scores = sorted(sim_scores, key=lambda x: x[1], reverse=True)\n",
    "sim_scores = sim_scores[1:n_recommendations+1]"
   ]
  },
  {
   "cell_type": "code",
   "execution_count": 80,
   "id": "a07679f4",
   "metadata": {},
   "outputs": [
    {
     "data": {
      "text/plain": [
       "[(1706, 0.9999999999999999),\n",
       " (2355, 0.9999999999999999),\n",
       " (2809, 0.9999999999999999),\n",
       " (3000, 0.9999999999999999),\n",
       " (3568, 0.9999999999999999),\n",
       " (6194, 0.9999999999999999),\n",
       " (6486, 0.9999999999999999),\n",
       " (6948, 0.9999999999999999),\n",
       " (7760, 0.9999999999999999),\n",
       " (8219, 0.9999999999999999)]"
      ]
     },
     "execution_count": 80,
     "metadata": {},
     "output_type": "execute_result"
    }
   ],
   "source": [
    "sim_scores"
   ]
  },
  {
   "cell_type": "code",
   "execution_count": 81,
   "id": "4a66d9f6",
   "metadata": {},
   "outputs": [],
   "source": [
    "similar_movies = [i[0] for i in sim_scores]"
   ]
  },
  {
   "cell_type": "code",
   "execution_count": 82,
   "id": "dadbff6b",
   "metadata": {},
   "outputs": [
    {
     "data": {
      "text/plain": [
       "[1706, 2355, 2809, 3000, 3568, 6194, 6486, 6948, 7760, 8219]"
      ]
     },
     "execution_count": 82,
     "metadata": {},
     "output_type": "execute_result"
    }
   ],
   "source": [
    "similar_movies"
   ]
  },
  {
   "cell_type": "markdown",
   "id": "fa8dd6ae",
   "metadata": {},
   "source": [
    "`similar movies` is an array of indices that represent Toy Story's top 10 recommendations. We can get the corresponding movie titles by using iloc on the 'title' column of the 'movie' dataframe"
   ]
  },
  {
   "cell_type": "code",
   "execution_count": 115,
   "id": "1d5692a2",
   "metadata": {},
   "outputs": [
    {
     "name": "stdout",
     "output_type": "stream",
     "text": [
      "Because you watched Toy Story (1995)\n"
     ]
    },
    {
     "data": {
      "text/plain": [
       "586     Haunted World of Edward D. Wood Jr., The (1996)\n",
       "480                            Terminal Velocity (1994)\n",
       "588                        Great White Hype, The (1996)\n",
       "1073                               Jerry Maguire (1996)\n",
       "1270                  I Love You, I Love You Not (1996)\n",
       "356                        Age of Innocence, The (1993)\n",
       "1265                               Sliding Doors (1998)\n",
       "260                                    Quiz Show (1994)\n",
       "1197                       In the Company of Men (1997)\n",
       "Name: title, dtype: object"
      ]
     },
     "execution_count": 115,
     "metadata": {},
     "output_type": "execute_result"
    }
   ],
   "source": [
    "print(f\"Because you watched {movie_title}\")\n",
    "movies[\"title\"].iloc[similar_movies]"
   ]
  },
  {
   "cell_type": "markdown",
   "id": "11d83870",
   "metadata": {},
   "source": [
    "The recommendation system seems to be working as the movies recommended are family friendly animation films."
   ]
  },
  {
   "cell_type": "markdown",
   "id": "627817d9",
   "metadata": {},
   "source": [
    "Below is the code for a single function to recommend movies."
   ]
  },
  {
   "cell_type": "code",
   "execution_count": 94,
   "id": "773e402f",
   "metadata": {},
   "outputs": [],
   "source": [
    "def get_content_based_recommendation(title_string, n_recommendations):\n",
    "    title = movie_finder(title_string)\n",
    "    idx = movie_idx[title]\n",
    "    sim_scores = list(enumerate(cosine_sim[idx]))\n",
    "    sim_scores = sorted(sim_scores, key=lambda x: x[1], reverse=True)\n",
    "    sim_scores = sim_scores[1:n_recommendations+1]\n",
    "    similar_movies = [i[0] for i in sim_scores]\n",
    "    print(f\"Because you watched {movie_title}\")\n",
    "    print(movies[\"title\"].iloc[similar_movies])"
   ]
  },
  {
   "cell_type": "code",
   "execution_count": 95,
   "id": "5c8a59b1",
   "metadata": {},
   "outputs": [
    {
     "name": "stdout",
     "output_type": "stream",
     "text": [
      "Because you watched Toy Story (1995)\n",
      "53                     Indian in the Cupboard, The (1995)\n",
      "109                     NeverEnding Story III, The (1994)\n",
      "767                       Escape to Witch Mountain (1975)\n",
      "1514            Darby O'Gill and the Little People (1959)\n",
      "1556                                  Return to Oz (1985)\n",
      "1617                        NeverEnding Story, The (1984)\n",
      "1618    NeverEnding Story II: The Next Chapter, The (1...\n",
      "1799                        Santa Claus: The Movie (1985)\n",
      "3574    Harry Potter and the Sorcerer's Stone (a.k.a. ...\n",
      "6075    Chronicles of Narnia: The Lion, the Witch and ...\n",
      "Name: title, dtype: object\n"
     ]
    }
   ],
   "source": [
    "get_content_based_recommendation(\"jumanji\", n_recommendations)"
   ]
  },
  {
   "cell_type": "markdown",
   "id": "517a980e",
   "metadata": {},
   "source": [
    "**Step 7: Dimensionality Reduction with Matrix Factorization**"
   ]
  },
  {
   "cell_type": "markdown",
   "id": "976751ac",
   "metadata": {},
   "source": [
    "Matrix Factorization (MF) is a linear algebra technique that can help us discover latent features underlying the interactions between users and movies. These latent features give a more compact representation of user tastes and item descriptions. MF is particularly useful for very sparse data and can enhance the quality of recommendations. The algorithm works by factorizing the original user-item matrix into two-factor matrices.\\\n",
    "\n",
    "**-user factor matrix(n_users,k)**\\\n",
    "**-item factor matrix(k, n_items)**\\\n",
    "\\\n",
    "We are reducing the dimensions of our original matrix into \"taste\" dimensions. We cannot interpret what each\\\n",
    "latent feature $k$ represents. However, we could imagine that one latent feature may represent users who like romantic comedies from the 90s, while another latent feature may represent movies which are independent foreign language films.\n",
    "\n",
    "\n",
    "$$X_{mn}\\approx P_{mk}\\times Q_{nk}^T = \\hat{X}$$\n",
    "\n",
    "<img src=\"images/matrix_factorization.png\" width=\"50%\"/>"
   ]
  },
  {
   "cell_type": "code",
   "execution_count": 96,
   "id": "6b81db1c",
   "metadata": {},
   "outputs": [],
   "source": [
    "from sklearn.decomposition import TruncatedSVD"
   ]
  },
  {
   "cell_type": "code",
   "execution_count": 97,
   "id": "9466fca1",
   "metadata": {},
   "outputs": [
    {
     "data": {
      "text/plain": [
       "(9724, 20)"
      ]
     },
     "execution_count": 97,
     "metadata": {},
     "output_type": "execute_result"
    }
   ],
   "source": [
    "svd = TruncatedSVD(n_components=20,n_iter=10)\n",
    "Q = svd.fit_transform(X.T)\n",
    "Q.shape"
   ]
  },
  {
   "cell_type": "code",
   "execution_count": 100,
   "id": "5cf680f1",
   "metadata": {},
   "outputs": [
    {
     "name": "stdout",
     "output_type": "stream",
     "text": [
      "Because you watched Toy Story (1995):\n",
      "Home Alone (1990)\n",
      "Jurassic Park (1993)\n",
      "Aladdin (1992)\n",
      "Willy Wonka & the Chocolate Factory (1971)\n",
      "Back to the Future (1985)\n",
      "Forrest Gump (1994)\n",
      "Groundhog Day (1993)\n",
      "Star Wars: Episode IV - A New Hope (1977)\n",
      "Princess Bride, The (1987)\n"
     ]
    }
   ],
   "source": [
    "movie_id = 1\n",
    "similar_movies = find_similar_movies(movie_id, Q.T, movie_mapper, movie_inv_mapper, k=10, metric='cosine')\n",
    "movie_title = movie_titles[movie_id]\n",
    "\n",
    "print(f\"Because you watched {movie_title}:\")\n",
    "for i in similar_movies:\n",
    "    print(movie_titles[i])"
   ]
  },
  {
   "cell_type": "markdown",
   "id": "d2dc4be6",
   "metadata": {},
   "source": [
    "### Conclusion\n",
    "\n",
    "Both the collaborative filtering and content filtering models were decent at recommending 10 most similar movies of a single movie. However, a drawback of this model and data is that there is no concrete way to measure evaluation metrics. If this was used in the real world, a good way to measure the effectiveness of this model would be to do an A/B test to see if the model was effective in increasing user viewing time or user engagement. However, due to the limitations of this project, it was not possible to do such a test."
   ]
  }
 ],
 "metadata": {
  "kernelspec": {
   "display_name": "Python 3 (ipykernel)",
   "language": "python",
   "name": "python3"
  },
  "language_info": {
   "codemirror_mode": {
    "name": "ipython",
    "version": 3
   },
   "file_extension": ".py",
   "mimetype": "text/x-python",
   "name": "python",
   "nbconvert_exporter": "python",
   "pygments_lexer": "ipython3",
   "version": "3.9.7"
  }
 },
 "nbformat": 4,
 "nbformat_minor": 5
}
